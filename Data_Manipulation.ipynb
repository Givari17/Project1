{
  "cells": [
    {
      "cell_type": "markdown",
      "metadata": {
        "id": "view-in-github",
        "colab_type": "text"
      },
      "source": [
        "<a href=\"https://colab.research.google.com/github/Givari17/Project1/blob/main/Data_Manipulation.ipynb\" target=\"_parent\"><img src=\"https://colab.research.google.com/assets/colab-badge.svg\" alt=\"Open In Colab\"/></a>"
      ]
    },
    {
      "cell_type": "code",
      "execution_count": null,
      "id": "e45d09bc",
      "metadata": {
        "id": "e45d09bc"
      },
      "outputs": [],
      "source": [
        "import pandas as pd"
      ]
    },
    {
      "cell_type": "code",
      "execution_count": null,
      "id": "451338c7",
      "metadata": {
        "id": "451338c7"
      },
      "outputs": [],
      "source": [
        "#create series\n",
        "number_list = pd.Series([1,2,3,4,5,6])"
      ]
    },
    {
      "cell_type": "code",
      "execution_count": null,
      "id": "39e7f214",
      "metadata": {
        "id": "39e7f214"
      },
      "outputs": [],
      "source": [
        "#create DataFrame\n",
        "matrix_list = pd.DataFrame([[1,2,3],\n",
        "                          ['a','b','c'],\n",
        "                          [3,4,5],\n",
        "                          ['d',4,6]])"
      ]
    },
    {
      "cell_type": "code",
      "execution_count": null,
      "id": "240a37b8",
      "metadata": {
        "id": "240a37b8"
      },
      "outputs": [],
      "source": [
        "matrix_list"
      ]
    },
    {
      "cell_type": "code",
      "execution_count": null,
      "id": "a3ec1f17",
      "metadata": {
        "id": "a3ec1f17"
      },
      "outputs": [],
      "source": [
        "number_list"
      ]
    },
    {
      "cell_type": "code",
      "execution_count": null,
      "id": "b01857f5",
      "metadata": {
        "id": "b01857f5"
      },
      "outputs": [],
      "source": [
        "print(\"[5] attribute .copy()\")"
      ]
    },
    {
      "cell_type": "code",
      "execution_count": null,
      "id": "685084e9",
      "metadata": {
        "id": "685084e9"
      },
      "outputs": [],
      "source": [
        "# using type for check data type\n",
        "type(matrix_list)"
      ]
    },
    {
      "cell_type": "code",
      "execution_count": null,
      "id": "be594486",
      "metadata": {
        "id": "be594486"
      },
      "outputs": [],
      "source": [
        "#check_index\n",
        "number_list.index"
      ]
    },
    {
      "cell_type": "code",
      "execution_count": null,
      "id": "720844f4",
      "metadata": {
        "id": "720844f4"
      },
      "outputs": [],
      "source": [
        "#check_index\n",
        "matrix_list.index"
      ]
    },
    {
      "cell_type": "code",
      "execution_count": null,
      "id": "c1d4ceb0",
      "metadata": {
        "id": "c1d4ceb0"
      },
      "outputs": [],
      "source": [
        "#check-column\n",
        "matrix_list.columns"
      ]
    },
    {
      "cell_type": "code",
      "execution_count": null,
      "id": "ac0c79df",
      "metadata": {
        "id": "ac0c79df"
      },
      "outputs": [],
      "source": [
        "#menggunakan iloc\n",
        "matrix_list.iloc[0:2,2].to_list()"
      ]
    },
    {
      "cell_type": "markdown",
      "id": "1cd244d0",
      "metadata": {
        "id": "1cd244d0"
      },
      "source": [
        "## Creating Series & Dataframe from list"
      ]
    },
    {
      "cell_type": "code",
      "execution_count": null,
      "id": "4de51be0",
      "metadata": {
        "id": "4de51be0"
      },
      "outputs": [],
      "source": [
        "ex_list = ['a',1,3,5,'c','d']\n",
        "ex_series = pd.Series(ex_list)\n",
        "print(ex_series)"
      ]
    },
    {
      "cell_type": "code",
      "execution_count": null,
      "id": "f2affd92",
      "metadata": {
        "id": "f2affd92"
      },
      "outputs": [],
      "source": [
        "ex_list_of_list = [[1,'a','b','c'],\n",
        "                   [2.5,'d','e','f'],\n",
        "\t\t           [5, 'g','h','i'],\n",
        "\t\t           [7.5,'j',10.5,'l']]\n",
        "ex_list_of_list"
      ]
    },
    {
      "cell_type": "code",
      "execution_count": null,
      "id": "49d91c02",
      "metadata": {
        "id": "49d91c02"
      },
      "outputs": [],
      "source": [
        "index = ['dq','lab','kar','lan']\n",
        "cols = ['float','char','obj','char']\n",
        "ex_df = pd.DataFrame(ex_list_of_list, index=index, columns=cols)\n",
        "print(ex_df)"
      ]
    },
    {
      "cell_type": "markdown",
      "id": "bc3e7916",
      "metadata": {
        "id": "bc3e7916"
      },
      "source": [
        "## Creating Series & DataFrame from Dictionary"
      ]
    },
    {
      "cell_type": "code",
      "execution_count": null,
      "id": "957cd408",
      "metadata": {
        "id": "957cd408"
      },
      "outputs": [],
      "source": [
        "# Creating series from dictionary\n",
        "dict_series = {'1':'a',\n",
        "\t\t\t   '2':'b',\n",
        "\t\t\t   '3':'c'}\n",
        "ex_series = pd.Series(dict_series)\n",
        "print(ex_series)\n",
        "# Creating dataframe from dictionary\n",
        "df_series = {'1':['a','b','c'],\n",
        "\t\t\t '2':['b','c','d'],\n",
        "\t\t\t '4':[2,3,'z']}\n",
        "ex_df = pd.DataFrame(df_series)\n",
        "print(ex_df)"
      ]
    },
    {
      "cell_type": "markdown",
      "id": "d4738711",
      "metadata": {
        "id": "d4738711"
      },
      "source": [
        "## Creating Series & DataFrame from Numpy Array"
      ]
    },
    {
      "cell_type": "code",
      "execution_count": null,
      "id": "7c0e6306",
      "metadata": {
        "id": "7c0e6306"
      },
      "outputs": [],
      "source": [
        "import numpy as np\n",
        "# Creating series from numpy array (1D)\n",
        "arr_series = np.array([1,2,3,4,5,6,7])\n",
        "ex_series = pd.Series(arr_series)\n",
        "print(ex_series)\n",
        "# Creating dataframe from numpy array (2D)\n",
        "arr_df = np.array([[1,2,3,5],\n",
        "                   [5,6,7,8],\n",
        "                   ['a','b','c','10']])\n",
        "ex_df = pd.DataFrame(arr_df)\n",
        "print(ex_df)"
      ]
    },
    {
      "cell_type": "code",
      "execution_count": null,
      "id": "cb062e61",
      "metadata": {
        "id": "cb062e61"
      },
      "outputs": [],
      "source": [
        "ex_df"
      ]
    },
    {
      "cell_type": "code",
      "execution_count": null,
      "id": "8f3a9f7d",
      "metadata": {
        "id": "8f3a9f7d"
      },
      "outputs": [],
      "source": [
        "#melakukan slicing dengan iloc\n",
        "ex_df.iloc[0:2,2:4]"
      ]
    },
    {
      "cell_type": "code",
      "execution_count": null,
      "id": "9e8d0176",
      "metadata": {
        "id": "9e8d0176"
      },
      "outputs": [],
      "source": [
        "#melakukan slicing dengan loc\n",
        "ex_df.loc[0:1,2:3]"
      ]
    },
    {
      "cell_type": "code",
      "execution_count": null,
      "id": "37be8374",
      "metadata": {
        "id": "37be8374"
      },
      "outputs": [],
      "source": [
        "pd.read_csv(\"https://storage.googleapis.com/dqlab-dataset/sample_tsv.tsv\", sep='\\t')"
      ]
    },
    {
      "cell_type": "markdown",
      "id": "8e0132f0",
      "metadata": {
        "id": "8e0132f0"
      },
      "source": [
        "## Another Indexing"
      ]
    },
    {
      "cell_type": "code",
      "execution_count": null,
      "id": "245cfce2",
      "metadata": {
        "id": "245cfce2"
      },
      "outputs": [],
      "source": [
        "df"
      ]
    },
    {
      "cell_type": "code",
      "execution_count": null,
      "id": "542f86f4",
      "metadata": {
        "id": "542f86f4"
      },
      "outputs": [],
      "source": [
        "import pandas as pd \n",
        "# Baca file TSV sample_tsv.tsv\n",
        "df = pd.read_csv(\"https://storage.googleapis.com/dqlab-dataset/sample_tsv.tsv\", sep=\"\\t\")\n",
        "# Index dari df\n",
        "print(\"Index:\", df.index)\n",
        "# Column dari df\n",
        "print(\"Columns:\",df.columns)"
      ]
    },
    {
      "cell_type": "code",
      "execution_count": null,
      "id": "ad9cb4c3",
      "metadata": {
        "id": "ad9cb4c3"
      },
      "outputs": [],
      "source": [
        "df"
      ]
    },
    {
      "cell_type": "markdown",
      "id": "994edb2c",
      "metadata": {
        "id": "994edb2c"
      },
      "source": [
        "## Indexing Part 3"
      ]
    },
    {
      "cell_type": "code",
      "execution_count": null,
      "id": "e055a0ce",
      "metadata": {
        "id": "e055a0ce"
      },
      "outputs": [],
      "source": [
        "df = pd.read_csv(\"https://storage.googleapis.com/dqlab-dataset/sample_tsv.tsv\", sep=\"\\t\")\n",
        "# Set multi index df\n",
        "df_x = df.set_index(['order_id', 'customer_id', 'product_id','order_id'])\n",
        "# Print nama dan level dari multi index\n",
        "# for name, ___ in zip(df_x.___.___, df_x.___.___):\n",
        "#     print(___,':',___)"
      ]
    },
    {
      "cell_type": "code",
      "execution_count": null,
      "id": "97d882a7",
      "metadata": {
        "id": "97d882a7"
      },
      "outputs": [],
      "source": [
        "df_x.head()"
      ]
    },
    {
      "cell_type": "code",
      "execution_count": null,
      "id": "e7d8e1cb",
      "metadata": {
        "id": "e7d8e1cb"
      },
      "outputs": [],
      "source": [
        "for name, level in zip(df_x.index.names, df_x.index.levels):\n",
        "    print(name,':',level)"
      ]
    },
    {
      "cell_type": "markdown",
      "id": "df790141",
      "metadata": {
        "id": "df790141"
      },
      "source": [
        "## Indexing part 4"
      ]
    },
    {
      "cell_type": "code",
      "execution_count": null,
      "id": "5d70dafe",
      "metadata": {
        "id": "5d70dafe"
      },
      "outputs": [],
      "source": [
        "df = pd.read_csv(\"https://storage.googleapis.com/dqlab-dataset/sample_tsv.tsv\"\n",
        ", sep=\"\\t\", nrows=10)"
      ]
    },
    {
      "cell_type": "code",
      "execution_count": null,
      "id": "6579eb6f",
      "metadata": {
        "id": "6579eb6f"
      },
      "outputs": [],
      "source": [
        "df"
      ]
    },
    {
      "cell_type": "code",
      "execution_count": null,
      "id": "fbd259bd",
      "metadata": {
        "id": "fbd259bd"
      },
      "outputs": [],
      "source": [
        "# Baca file sample_tsv.tsv untuk 10 baris pertama saja\n",
        "df = pd.read_csv(\"https://storage.googleapis.com/dqlab-dataset/sample_tsv.tsv\"\n",
        ", sep=\"\\t\", nrows=10)\n",
        "# Cetak data frame awal\n",
        "print(\"Dataframe awal:\\n\", df)\n",
        "# Set index baru\n",
        "df.index = [\"pesanan ke-\" + str(i) for i in range(1, 11)]\n",
        "# Cetak data frame dengan index baru\n",
        "print(\"Dataframe dengan index baru:\\n\", df)"
      ]
    },
    {
      "cell_type": "markdown",
      "id": "2c6095a2",
      "metadata": {
        "id": "2c6095a2"
      },
      "source": [
        "## Indexing part 5"
      ]
    },
    {
      "cell_type": "code",
      "execution_count": null,
      "id": "52cae614",
      "metadata": {
        "id": "52cae614"
      },
      "outputs": [],
      "source": [
        "# Baca file sample_tsv.tsv dan set lah index_col sesuai instruksi\n",
        "df = pd.read_csv(\"https://storage.googleapis.com/dqlab-dataset/sample_tsv.tsv\", sep=\"\\t\", index_col=[\"order_date\",\"order_id\"])\n",
        "# Cetak data frame untuk 8 data teratas\n",
        "print(\"Dataframe:\\n\", df)"
      ]
    },
    {
      "cell_type": "code",
      "execution_count": null,
      "id": "2b4588ff",
      "metadata": {
        "id": "2b4588ff"
      },
      "outputs": [],
      "source": [
        "df_week = pd.DataFrame({'day_number':[1,2,3,4,5,6,7],\n",
        "                        'week_type':['weekday' for i in range(5)] + ['weekend' for i in range(2)]\n",
        "                       })\n",
        "df_week_ix = ['Mon','Tue','Wed','Thu','Fri','Sat','Sun']\n",
        "df_week.index = [df_week_ix, df_week['day_number'].to_list()]\n",
        "df_week.index.names = ['name','num']"
      ]
    },
    {
      "cell_type": "code",
      "execution_count": null,
      "id": "3f457a8d",
      "metadata": {
        "id": "3f457a8d"
      },
      "outputs": [],
      "source": [
        "df_week"
      ]
    },
    {
      "cell_type": "code",
      "execution_count": null,
      "id": "2cf522e3",
      "metadata": {
        "id": "2cf522e3"
      },
      "outputs": [],
      "source": [
        "print(df_week.index.names)"
      ]
    },
    {
      "cell_type": "markdown",
      "id": "f47fc51b",
      "metadata": {
        "id": "f47fc51b"
      },
      "source": [
        "## Slicing part 1"
      ]
    },
    {
      "cell_type": "code",
      "execution_count": null,
      "id": "86a94497",
      "metadata": {
        "id": "86a94497"
      },
      "outputs": [],
      "source": [
        "df = pd.read_csv(\"https://storage.googleapis.com/dqlab-dataset/sample_csv.csv\")\n",
        "df"
      ]
    },
    {
      "cell_type": "code",
      "execution_count": null,
      "id": "b993aa30",
      "metadata": {
        "id": "b993aa30"
      },
      "outputs": [],
      "source": [
        "df[(df[\"customer_id\"] == 18055) |\n",
        "\t\t          (df[\"product_id\"].isin([\"P0029\",\"P0040\",\"P0041\",\"P0116\",\"P0117\"]))]"
      ]
    },
    {
      "cell_type": "code",
      "execution_count": null,
      "id": "30e7ded2",
      "metadata": {
        "id": "30e7ded2"
      },
      "outputs": [],
      "source": [
        "df = pd.read_csv(\"https://storage.googleapis.com/dqlab-dataset/sample_csv.csv\")\n",
        "# Slice langsung berdasarkan kolom\n",
        "df_slice = df.loc[(df[\"customer_id\"] == 18055) &\n",
        "\t\t          (df[\"product_id\"].isin([\"P0029\",\"P0040\",\"P0041\",\"P0116\",\"P0117\"]))]\n",
        "# print(\"Slice langsung berdasarkan kolom:\\n\", df_slice)"
      ]
    },
    {
      "cell_type": "code",
      "execution_count": null,
      "id": "7a35e506",
      "metadata": {
        "id": "7a35e506"
      },
      "outputs": [],
      "source": [
        "# Baca file sample_csv.csv\n",
        "df = pd.read_csv(\"https://storage.googleapis.com/dqlab-dataset/sample_csv.csv\")\n",
        "# Slice langsung berdasarkan kolom\n",
        "df_slice = df.loc[(df[\"customer_id\"] == 18055) &\n",
        "\t\t          (df[\"product_id\"].isin([\"P0029\",\"P0040\",\"P0041\",\"P0116\",\"P0117\"]))\n",
        "\t\t\t\t ]\n",
        "print(\"Slice langsung berdasarkan kolom:\\n\", df_slice)"
      ]
    },
    {
      "cell_type": "markdown",
      "id": "174d1a31",
      "metadata": {
        "id": "174d1a31"
      },
      "source": [
        "## Slicing part 2"
      ]
    },
    {
      "cell_type": "code",
      "execution_count": null,
      "id": "f16b02b4",
      "metadata": {
        "id": "f16b02b4"
      },
      "outputs": [],
      "source": [
        "# Baca file sample_csv.csv\n",
        "df = pd.read_csv(\"https://storage.googleapis.com/dqlab-dataset/sample_csv.csv\")\n",
        "# Set index dari df sesuai instruksi\n",
        "df = df.set_index([\"order_date\",\"order_id\",\"product_id\"])\n",
        "# Slice sesuai intruksi\n",
        "df_slice = df.loc[(\"2019-01-01\",1612339,[\"P2154\",\"P2159\"]),:]\n",
        "print(\"Slice df:\\n\", df_slice)"
      ]
    },
    {
      "cell_type": "markdown",
      "id": "1a2736d9",
      "metadata": {
        "id": "1a2736d9"
      },
      "source": [
        "## Transforming Part 1"
      ]
    },
    {
      "cell_type": "code",
      "execution_count": null,
      "id": "ffb5e6e3",
      "metadata": {
        "id": "ffb5e6e3"
      },
      "outputs": [],
      "source": [
        "# Baca file sample_csv.csv\n",
        "df = pd.read_csv(\"https://storage.googleapis.com/dqlab-dataset/sample_csv.csv\")\n",
        "# Cetak 5 baris teratas kolom brand\n",
        "print(\"Kolom brand awal:\\n\", df[\"brand\"].head())\n",
        "# Gunakan method apply untuk merubah isi kolom menjadi lower case\n",
        "df[\"brand\"] = df[\"brand\"].apply(lambda x: x.lower())\n",
        "# Cetak 5 baris teratas kolom brand\n",
        "print(\"Kolom brand setelah apply:\\n\", df[\"brand\"].head())\n",
        "# Gunakan method map untuk mengambil kode brand yaitu karakter terakhirnya\n",
        "df[\"brand\"] = df[\"brand\"].map(lambda x: x[-1])\n",
        "# Cetak 5 baris teratas kolom brand\n",
        "print(\"Kolom brand setelah map:\\n\", df[\"brand\"].head())"
      ]
    },
    {
      "cell_type": "markdown",
      "id": "65290593",
      "metadata": {
        "id": "65290593"
      },
      "source": [
        "## Transforming Part 2"
      ]
    },
    {
      "cell_type": "code",
      "execution_count": null,
      "id": "73964d3c",
      "metadata": {
        "id": "73964d3c"
      },
      "outputs": [],
      "source": [
        "import numpy as np\n",
        "import pandas as pd\n",
        "# number generator, set angka seed menjadi suatu angka, bisa semua angka, supaya hasil random nya selalu sama ketika kita run\n",
        "np.random.seed(1234)\n",
        "# create dataframe 3 baris dan 4 kolom dengan angka random\n",
        "df_tr = pd.DataFrame(np.random.rand(3,4))\n",
        "# Cetak dataframe\n",
        "print(\"Dataframe:\\n\", df_tr)\n",
        "# Cara 1 dengan tanpa define function awalnya, langsung pake fungsi anonymous lambda x\n",
        "df_tr1 = df_tr.applymap(lambda x: x**2 + 3*x + 2) \n",
        "print(\"\\nDataframe - cara 1:\\n\", df_tr1)\n",
        "# Cara 2 dengan define function \n",
        "def qudratic_fun(x):\n",
        "\treturn x**2 + 3*x + 2\n",
        "df_tr2 = df_tr.applymap(qudratic_fun)\n",
        "print(\"\\nDataframe - cara 2:\\n\", df_tr2)"
      ]
    },
    {
      "cell_type": "markdown",
      "id": "b3b396d8",
      "metadata": {
        "id": "b3b396d8"
      },
      "source": [
        "### Handling Missing Value With Pandas\n",
        "\n",
        "https://pandas.pydata.org/pandas-docs/stable/user_guide/missing_data.html"
      ]
    },
    {
      "cell_type": "markdown",
      "id": "deb5c973",
      "metadata": {
        "id": "deb5c973"
      },
      "source": [
        "## How to check missing value with pandas "
      ]
    },
    {
      "cell_type": "code",
      "execution_count": null,
      "id": "a359fb3a",
      "metadata": {
        "id": "a359fb3a"
      },
      "outputs": [],
      "source": [
        "import pandas as pd\n",
        "# Baca file \"https://storage.googleapis.com/dqlab-dataset/datacovid19.csv\"\n",
        "df = pd.read_csv(\"https://storage.googleapis.com/dqlab-dataset/datacovid19.csv\")\n",
        "# Cetak info dari df\n",
        "print(df.info())\n",
        "# Cetak jumlah missing value di setiap kolom\n",
        "mv = df.isna().sum()\n",
        "print(\"\\nJumlah missing value per kolom:\\n\", mv)"
      ]
    },
    {
      "cell_type": "markdown",
      "id": "c73b2eb5",
      "metadata": {
        "id": "c73b2eb5"
      },
      "source": [
        "## Treatment untuk missing value - Part 1"
      ]
    },
    {
      "cell_type": "code",
      "execution_count": null,
      "id": "0cef257f",
      "metadata": {
        "id": "0cef257f"
      },
      "outputs": [],
      "source": [
        "import pandas as pd\n",
        "# Baca file \"https://storage.googleapis.com/dqlab-dataset/datacovid19.csv\"\n",
        "df = pd.read_csv(\"https://storage.googleapis.com/dqlab-dataset/datacovid19.csv\")\n",
        "# Cetak ukuran awal dataframe\n",
        "print(\"Ukuran awal df: %d baris, %d kolom.\" % df.shape)\n",
        "# Drop kolom yang seluruhnya missing value dan cetak ukurannya\n",
        "df = df.dropna(axis=1, how=\"all\")  #all jika keseluruhan data missing value akan di apply\n",
        "print(\"Ukuran df setelah buang kolom dengan seluruh data missing: %d baris, %d kolom.\" % df.shape)\n",
        "# Drop baris jika ada satu saja data yang missing dan cetak ukurannya\n",
        "df = df.dropna(axis=0,how=\"any\") #any jika ada salah satu saja missing value maka akan di apply\n",
        "print(\"Ukuran df setelah dibuang baris yang memiliki sekurangnya 1 missing value: %d baris, %d kolom.\" % df.shape)"
      ]
    },
    {
      "cell_type": "markdown",
      "id": "18cca18c",
      "metadata": {
        "id": "18cca18c"
      },
      "source": [
        "## Treatment untuk missing value - Part 2"
      ]
    },
    {
      "cell_type": "code",
      "execution_count": null,
      "id": "c3c0f603",
      "metadata": {
        "id": "c3c0f603"
      },
      "outputs": [],
      "source": [
        "# Baca file \"https://storage.googleapis.com/dqlab-dataset/datacovid19.csv\"\n",
        "df = pd.read_csv(\"https://storage.googleapis.com/dqlab-dataset/datacovid19.csv\")\n",
        "# Cetak unique value pada kolom province_state\n",
        "print(\"Unique value awal:\\n\", df[\"province_state\"].unique())\n",
        "# Ganti missing value dengan string \"unknown_province_state\"\n",
        "df[\"province_state\"] = df[\"province_state\"].fillna(\"unknown_province_state\")\n",
        "# Cetak kembali unique value pada kolom province_state\n",
        "print(\"Unique value setelah fillna:\\n\", df[\"province_state\"].unique())"
      ]
    },
    {
      "cell_type": "markdown",
      "id": "420b3d9c",
      "metadata": {
        "id": "420b3d9c"
      },
      "source": [
        "## Treatment untuk missing value - Part 3"
      ]
    },
    {
      "cell_type": "code",
      "execution_count": null,
      "id": "888befa6",
      "metadata": {
        "id": "888befa6"
      },
      "outputs": [],
      "source": [
        "# Baca file \"https://storage.googleapis.com/dqlab-dataset/datacovid19.csv\"\n",
        "df = pd.read_csv(\"https://storage.googleapis.com/dqlab-dataset/datacovid19.csv\")\n",
        "# Cetak nilai mean dan median awal \n",
        "print(\"Awal: mean = %f, median = %f.\" % (df[\"active\"].mean(), df[\"active\"].median()))\n",
        "# Isi missing value kolom active dengan median\n",
        "df_median = df[\"active\"].fillna(df[\"active\"].median())\n",
        "# Cetak nilai mean dan median awal setelah diisi dengan median\n",
        "print(\"Fillna median: mean = %f, median = %f.\" % (df[\"active\"].mean(), df[\"active\"].median()))\n",
        "# Isi missing value kolom active dengan mean\n",
        "df_mean = df[\"active\"].fillna(df[\"active\"].mean())\n",
        "# Cetak nilai mean dan median awal setelah diisi dengan mean\n",
        "print(\"Fillna mean: mean = %f, median = %f.\" % (df[\"active\"].mean(),df[\"active\"].median()))"
      ]
    },
    {
      "cell_type": "code",
      "execution_count": null,
      "id": "0448a093",
      "metadata": {
        "id": "0448a093"
      },
      "outputs": [],
      "source": [
        "# Baca file \"https://storage.googleapis.com/dqlab-dataset/datacovid19.csv\"\n",
        "df = pd.read_csv(\"https://storage.googleapis.com/dqlab-dataset/datacovid19.csv\")\n",
        "# Cetak nilai mean dan median awal \n",
        "print(\"Awal: mean = %f, median = %f.\" % (df[\"active\"].mean(), df[\"active\"].median()))\n",
        "# Isi missing value kolom active dengan median\n",
        "df_median = df[\"active\"].fillna(df[\"active\"].median())\n",
        "# Cetak nilai mean dan median awal setelah diisi dengan median\n",
        "print(\"Fillna median: mean = %f, median = %f.\" % (df_median.mean(), df_median.median()))\n",
        "# Isi missing value kolom active dengan mean\n",
        "df_mean = df[\"active\"].fillna(df[\"active\"].mean())\n",
        "# Cetak nilai mean dan median awal setelah diisi dengan mean\n",
        "print(\"Fillna mean: mean = %f, median = %f.\" % (df_mean.mean(), df_mean.median()))"
      ]
    },
    {
      "cell_type": "markdown",
      "id": "ca87e065",
      "metadata": {
        "id": "ca87e065"
      },
      "source": [
        "## Treatment untuk missing value - Part 4"
      ]
    },
    {
      "cell_type": "markdown",
      "id": "cc284038",
      "metadata": {
        "id": "cc284038"
      },
      "source": [
        "Di bagian ini akan menggunakan teknik interpolasi dalam mengisi nilai missing value pada suatu dataset.\n",
        "\n",
        "Data yang menggunakan interpolasi untuk mengisi data yang hilang adalah time series data, yang secara default akan diisi dengan interpolasi linear."
      ]
    },
    {
      "cell_type": "code",
      "execution_count": null,
      "id": "8918f002",
      "metadata": {
        "id": "8918f002"
      },
      "outputs": [],
      "source": [
        "import numpy as np\n",
        "import pandas as pd\n",
        "# Data\n",
        "ts = pd.Series({\n",
        "   \"2020-01-01\":9,\n",
        "   \"2020-01-02\":np.nan,\n",
        "   \"2020-01-05\":np.nan,\n",
        "   \"2020-01-07\":24,\n",
        "   \"2020-01-10\":np.nan,\n",
        "   \"2020-01-12\":np.nan,\n",
        "   \"2020-01-15\":33,\n",
        "   \"2020-01-17\":np.nan,\n",
        "   \"2020-01-16\":40,\n",
        "   \"2020-01-20\":45,\n",
        "   \"2020-01-22\":52,\n",
        "   \"2020-01-25\":75,\n",
        "   \"2020-01-28\":np.nan,\n",
        "   \"2020-01-30\":np.nan\n",
        "})\n",
        "# Isi missing value menggunakan interpolasi linier\n",
        "ts = ts.interpolate()\n",
        "# Cetak time series setelah interpolasi linier\n",
        "print(\"Setelah diisi missing valuenya:\\n\", ts)"
      ]
    },
    {
      "cell_type": "markdown",
      "id": "ff4a291b",
      "metadata": {
        "id": "ff4a291b"
      },
      "source": [
        "Diberikan dataset ‘retail_raw_test.csv’\n",
        "\n",
        "Baca dataset\n",
        "Tipe data diubah menjadi tipe yang seharusnya\n",
        "customer_id dari string ke int64,\n",
        "quantity dari string ke int64,\n",
        "item_price dari string ke int64\n",
        "transform product_value supaya bentuknya seragam dengan format PXXXX, assign ke kolom baru \"product_id\", dan drop kolom \"product_value\", jika terdapat nan gantilah dengan \"unknown\".\n",
        "trasnform order_date menjadi value dengan format YYYY-mm-dd\n",
        "cek data hilang dari tiap kolom dan kemudian isi missing value\n",
        "di brand dengan \"no_brand\", dan\n",
        "cek dulu bagaimana missing value di city & province - isi missing value di city dan province dengan \"unknown\"\n",
        "create column city/province dari gabungan city & province\n",
        "membuat index berdasarkan city_provice, order_date, customer_id, order_id, product_id (cek index)\n",
        "membuat kolom \"total_price\" sebagai hasil perkalian quantity dengan item_price\n",
        "slice data hanya untuk Jan 2019"
      ]
    },
    {
      "cell_type": "code",
      "execution_count": null,
      "id": "ca98cf62",
      "metadata": {
        "id": "ca98cf62"
      },
      "outputs": [],
      "source": [
        "pd.read_csv(\"https://storage.googleapis.com/dqlab-dataset/retail_raw_test.csv\", low_memory=False)"
      ]
    },
    {
      "cell_type": "code",
      "execution_count": null,
      "id": "a1862c07",
      "metadata": {
        "id": "a1862c07"
      },
      "outputs": [],
      "source": [
        "# 1. Baca dataset\n",
        "print(\"[1] BACA DATASET\")\n",
        "df = pd.read_csv(\"https://storage.googleapis.com/dqlab-dataset/retail_raw_test.csv\", low_memory=False)\n",
        "print(\"    Dataset:\\n\", df.head())\n",
        "print(\"    Info:\\n\", df.info())"
      ]
    },
    {
      "cell_type": "code",
      "execution_count": null,
      "id": "7791f912",
      "metadata": {
        "id": "7791f912"
      },
      "outputs": [],
      "source": [
        "# 2. Ubah tipe data\n",
        "print(\"\\n[2] UBAH TIPE DATA\")\n",
        "df[\"customer_id\"] = df[\"customer_id\"].apply(lambda x: x.split(\"'\")[1]).astype(\"int64\")\n",
        "df[\"quantity\"] = df[\"quantity\"].apply(lambda x: x.split(\"'\")[1]).astype(\"int64\")\n",
        "df[\"item_price\"] = df[\"item_price\"].apply(lambda x: x.split(\"'\")[1]).astype(\"int64\")\n",
        "print(\"    Tipe data:\\n\", df.dtypes)"
      ]
    },
    {
      "cell_type": "code",
      "execution_count": null,
      "id": "f0906ffe",
      "metadata": {
        "id": "f0906ffe"
      },
      "outputs": [],
      "source": [
        "# 3. Transform \"product_value\" supaya bentuknya seragam dengan format \"PXXXX\", assign ke kolom baru \"product_id\", dan drop kolom \"product_value\", jika terdapat nan gantilah dengan \"unknown\"\n",
        "print(\"\\n[3] TRANSFORM product_value MENJADI product_id\")\n",
        "# Buat fungsi\n",
        "import math\n",
        "def impute_product_value(val):\n",
        "\tif math.isnan(val):\n",
        "\t\treturn \"unknown\"\n",
        "\telse:\n",
        "\t\treturn 'P' + '{:0>4}'.format(str(val).split('.')[0])\n",
        "\n",
        "# Buat kolom \"product_id\"\n",
        "df[\"product_id\"] = df[\"product_value\"].apply(lambda x: impute_product_value(x))\n",
        "# Hapus kolom \"product_value\"\n",
        "df.drop([\"product_value\"], axis=1, inplace=True)\n",
        "# Cetak 5 data teratas\n",
        "print(df.head())"
      ]
    },
    {
      "cell_type": "code",
      "execution_count": null,
      "id": "a37ea972",
      "metadata": {
        "id": "a37ea972"
      },
      "outputs": [],
      "source": [
        "# 4. Tranform order_date menjadi value dengan format \"YYYY-mm-dd\"\n",
        "print(\"\\n[4] TRANSFORM order_date MENJADI FORMAT YYYY-mm-dd\")\n",
        "months_dict = {\n",
        "   \"Jan\":\"01\",\n",
        "   \"Feb\":\"02\",\n",
        "   \"Mar\":\"03\",\n",
        "   \"Apr\":\"04\",\n",
        "   \"May\":\"05\",\n",
        "   \"Jun\":\"06\",\n",
        "   \"Jul\":\"07\",\n",
        "   \"Aug\":\"08\",\n",
        "   \"Sep\":\"09\",\n",
        "   \"Oct\":\"10\",\n",
        "   \"Nov\":\"11\",\n",
        "   \"Dec\":\"12\"\n",
        "}\n",
        "df[\"order_date\"] = pd.to_datetime(df[\"order_date\"].apply(lambda x: str(x)[-4:] + \"-\" + months_dict[str(x)[:3]] + \"-\" + str(x)[4:7]))\n",
        "print(\"    Tipe data:\\n\", df.dtypes)"
      ]
    },
    {
      "cell_type": "code",
      "execution_count": null,
      "id": "22c53a17",
      "metadata": {
        "id": "22c53a17"
      },
      "outputs": [],
      "source": [
        "# 5. Mengatasi data yang hilang di beberapa kolom\n",
        "print(\"\\n[5] HANDLING MISSING VALUE\")\n",
        "# Kolom \"city\" dan \"province\" masih memiliki missing value, nilai yang hilang di kedua kolom ini diisi saja dengan \"unknown\"\n",
        "df[[\"city\",\"province\"]] = df[[\"city\",\"province\"]].fillna(\"unknown\")\n",
        "# Kolom brand juga masih memiliki missing value, Ganti value NaN menjadi \"no_brand\"\n",
        "df[\"brand\"] = df[\"brand\"].fillna(\"no_brand\")\n",
        "# Cek apakah masih terdapat missing value di seluruh kolom \n",
        "print(\"    Info:\\n\", df.info())"
      ]
    },
    {
      "cell_type": "code",
      "execution_count": null,
      "id": "3357e1b1",
      "metadata": {
        "id": "3357e1b1"
      },
      "outputs": [],
      "source": [
        "# 6. Membuat kolom baru \"city/province\" dengan menggabungkan kolom \"city\" dan kolom \"province\" dan delete kolom asalnya\n",
        "print(\"\\n[6] MEMBUAT KOLOM BARU city/province\")\n",
        "df[\"city/province\"] = df[\"city\"] + \"/\" + df[\"province\"]\n",
        "# drop kolom \"city\" dan \"province\" karena telah digabungkan\n",
        "df.drop([\"city\",\"province\"], axis=1, inplace=True)\n",
        "# Cetak 5 data teratas\n",
        "print(df.head())"
      ]
    },
    {
      "cell_type": "code",
      "execution_count": null,
      "id": "95370630",
      "metadata": {
        "id": "95370630"
      },
      "outputs": [],
      "source": [
        "# 7. Membuat hierarchical index yang terdiri dari kolom \"city/province\", \"order_date\", \"customer_id\", \"order_id\", \"product_id\"\n",
        "print(\"\\n[7] MEMBUAT HIERACHICAL INDEX\")\n",
        "df = df.set_index([\"city/province\",\"order_date\",\"customer_id\",\"order_id\",\"product_id\"])\n",
        "# urutkanlah berdasarkan index yang baru\n",
        "df = df.sort_index()\n",
        "# Cetak 5 data teratas\n",
        "print(df.head())"
      ]
    },
    {
      "cell_type": "code",
      "execution_count": null,
      "id": "df30a78a",
      "metadata": {
        "id": "df30a78a"
      },
      "outputs": [],
      "source": [
        "# 8. Membuat kolom \"total_price\" yang formula nya perkalian antara kolom \"quantity\" dan kolom \"item_price\"\n",
        "print(\"\\n[8] MEMBUAT KOLOM total_price\")\n",
        "df[\"total_price\"] = df[\"quantity\"] * df[\"item_price\"]\n",
        "# Cetak 5 data teratas\n",
        "print(df.head())"
      ]
    },
    {
      "cell_type": "code",
      "execution_count": null,
      "id": "e2503382",
      "metadata": {
        "id": "e2503382"
      },
      "outputs": [],
      "source": [
        "# 9. Slice dataset agar hanya terdapat data bulan Januari 2019\n",
        "print(\"\\n[9] SLICE DATASET UNTUK BULAN JANUARI 2019 SAJA\")\n",
        "idx = pd.IndexSlice\n",
        "df_jan2019 = df.loc[idx[:, \"2019-01-01\":\"2019-01-31\"], :]\n",
        "print(\"Dataset akhir:\\n\", df_jan2019)"
      ]
    },
    {
      "cell_type": "code",
      "execution_count": null,
      "id": "dccf134f",
      "metadata": {
        "id": "dccf134f"
      },
      "outputs": [],
      "source": []
    }
  ],
  "metadata": {
    "kernelspec": {
      "display_name": "danielenv",
      "language": "python",
      "name": "danielenv"
    },
    "language_info": {
      "codemirror_mode": {
        "name": "ipython",
        "version": 3
      },
      "file_extension": ".py",
      "mimetype": "text/x-python",
      "name": "python",
      "nbconvert_exporter": "python",
      "pygments_lexer": "ipython3",
      "version": "3.9.7"
    },
    "colab": {
      "provenance": [],
      "include_colab_link": true
    }
  },
  "nbformat": 4,
  "nbformat_minor": 5
}