{
  "cells": [
    {
      "cell_type": "markdown",
      "metadata": {
        "id": "view-in-github",
        "colab_type": "text"
      },
      "source": [
        "<a href=\"https://colab.research.google.com/github/Givari17/Project1/blob/main/Data_Cleansing_for_Telco_Data.ipynb\" target=\"_parent\"><img src=\"https://colab.research.google.com/assets/colab-badge.svg\" alt=\"Open In Colab\"/></a>"
      ]
    },
    {
      "cell_type": "markdown",
      "id": "68108056-99ec-4ddf-8baf-69a6f8d0edd1",
      "metadata": {
        "id": "68108056-99ec-4ddf-8baf-69a6f8d0edd1"
      },
      "source": [
        "![image.png](attachment:d46dfd11-bab0-45be-a334-89397d175882.png)\n",
        "\n",
        "# DATA CLEANSING IN TELCO\n",
        "\n",
        "Data cleansing adalah proses untuk mmeperbaiki data yang tidak tepat, hilang, salah format, dan atau terduplikasi. Data cleansing adalah hal yang harus dilakukan sebelum melakukan modeling data.\n",
        "\n",
        "# DQLab STUDY CASE\n",
        "\n",
        "Anda adalah seorang Data Engineer di sebuah perusahaan telco bernama DQLab Telco. Perusahaan memiliki banyak cabang yang tersebar di mana-mana. Sejak berdiri pada tahun 2019, DQLab telco konsisten untuk memperhatikan *customer experience*-nya sehingga tidak akan ditinggalkan pelanggan.\n",
        "\n",
        "Walupun baru berumur 1 tahun lebih sedikit, sudah ada banyak pelanggan DQLab Telco yang beralih langganan ke kompetitor. Pihak *management* ingin mengurangi jumlah pelanggan yang beralih (*churn*) dengan menggunakan *machine learning*.\n",
        "\n",
        "Oleh karena itu, tim Data Engineer diminta untuk mempersiapkan data untuk melakukan pemodelan untuk memprediksi dengan tepat pelanggan yang akan berhenti atau *churn*.\n",
        "\n",
        "**Data Documentation**\n",
        "\n",
        "Pada data yang akan kita gunakan, sudah terdapat dokumentasi terkait data yang akan kita gunakan. Dokumentasi berisi penjelasan singkat terkait kolom kolom yang akan digunakan.\n",
        "\n",
        "* `UpdatedAt` periode of data taken\n",
        "* `customerID` Customer ID\n",
        "* `gender` Whether the customer is a male or a female (Male, Female)\n",
        "* `SeniorCitizen` Whether the customer is a senior citizen or not (1, 0)\n",
        "* `Partner` Whether the customer has a partner or not (Yes, No)\n",
        "* `Dependents` Whether the customer has dependents or not (Yes, No)\n",
        "* `tenure` Number of months the customer has stayed with the company\n",
        "* `PhoneService` Whether the customer has a phone service or not (Yes, No)\n",
        "* `MultipleLines` Whether the customer has multiple lines or not (Yes, No, No phone service)\n",
        "* `InternetService` Customer’s internet service provider (DSL, Fiber optic, No)\n",
        "* `OnlineSecurity` Whether the customer has online security or not (Yes, No, No internet service)\n",
        "* `OnlineBackup` Whether the customer has online backup or not (Yes, No, No internet service)\n",
        "* `DeviceProtection` Whether the customer has device protection or not (Yes, No, No internet service)\n",
        "* `TechSupport` Whether the customer has tech support or not (Yes, No, No internet service)\n",
        "* `StreamingTV` Whether the customer has streaming TV or not (Yes, No, No internet service)\n",
        "* `StreamingMovies` Whether the customer has streaming movies or not (Yes, No, No internet service)\n",
        "* `Contract` The contract term of the customer (Month-to-month, One year, Two year)\n",
        "* `PaperlessBilling` Whether the customer has paperless billing or not (Yes, No)\n",
        "* `PaymentMethod` The customer’s payment method (Electronic check, Mailed check, Bank transfer (automatic), Credit card (automatic))\n",
        "* `MonthlyCharges` The amount charged to the customer monthly\n",
        "* `TotalCharges` The total amount charged to the customer\n",
        "* `Churn` Whether the customer churned or not (Yes or No)\n",
        "\n",
        "**Tugas dan Langkah**\n",
        "\n",
        "Dalam studi case ini, Anda akan diminta untuk melakukan data preprocessing (Data Cleansing) untuk data bulan Juni 2020. Langkah-langkah yang perlu dilakukan adalah:\n",
        "\n",
        "1. Mencari ID pelanggan (No telepon) yang valid.\n",
        "2. Mengatasi data-data yang masih kosong (missing values)\n",
        "3. Mengatasi nilai nilai pencilan (outlier) dari setiap variable\n",
        "4. Menstandarisasi nilai dari variable."
      ]
    },
    {
      "cell_type": "markdown",
      "id": "8ca0f7e8-56b4-4482-889e-563f7089b773",
      "metadata": {
        "id": "8ca0f7e8-56b4-4482-889e-563f7089b773"
      },
      "source": [
        "## Importing Library and Dataset"
      ]
    },
    {
      "cell_type": "code",
      "execution_count": 1,
      "id": "3c981dd3-dc17-4191-9423-1a93219e62cd",
      "metadata": {
        "id": "3c981dd3-dc17-4191-9423-1a93219e62cd"
      },
      "outputs": [],
      "source": [
        "import pandas as pd\n",
        "import matplotlib.pyplot as plt\n",
        "import seaborn as sns\n",
        "\n",
        "# option for display pandas DataFrame\n",
        "pd.options.display.max_columns = 50\n",
        "df_load = pd.read_csv('https://storage.googleapis.com/dqlab-dataset/dqlab_telco.csv')"
      ]
    },
    {
      "cell_type": "markdown",
      "id": "87ffebd3-bd4d-4190-badb-8ad916557500",
      "metadata": {
        "id": "87ffebd3-bd4d-4190-badb-8ad916557500"
      },
      "source": [
        "## 1. Data Summary\n",
        "\n",
        "Data summary digunakan untuk memahami data secara singkat. Ada beberapa hal yang bisa kita lakukan, diantaranya:\n",
        "\n",
        "1. Mengecek dimensi data\n",
        "2. Melihat data tipe setiap kolom\n",
        "3. Mengecek data null dan tidak null secara summary\n",
        "4. Melakukan statistik deskriptif\n",
        "5. Melihat subset data teratas dan terbawah"
      ]
    },
    {
      "cell_type": "code",
      "execution_count": 2,
      "id": "64bac2e4-57bd-4f4f-8056-b36008516e16",
      "metadata": {
        "colab": {
          "base_uri": "https://localhost:8080/"
        },
        "id": "64bac2e4-57bd-4f4f-8056-b36008516e16",
        "outputId": "0a1848df-7823-4ba7-8713-e423846d85e8"
      },
      "outputs": [
        {
          "output_type": "stream",
          "name": "stdout",
          "text": [
            "(7113, 22)\n"
          ]
        }
      ],
      "source": [
        "print(df_load.shape)"
      ]
    },
    {
      "cell_type": "code",
      "execution_count": 3,
      "id": "fd7ae749-9f1b-4e6f-8306-00c2835bf932",
      "metadata": {
        "colab": {
          "base_uri": "https://localhost:8080/"
        },
        "id": "fd7ae749-9f1b-4e6f-8306-00c2835bf932",
        "outputId": "4d36768b-0dec-4172-9d79-62c3ba8783f7"
      },
      "outputs": [
        {
          "output_type": "stream",
          "name": "stdout",
          "text": [
            "UpdatedAt             int64\n",
            "customerID           object\n",
            "gender               object\n",
            "SeniorCitizen         int64\n",
            "Partner              object\n",
            "Dependents           object\n",
            "tenure              float64\n",
            "PhoneService         object\n",
            "MultipleLines        object\n",
            "InternetService      object\n",
            "OnlineSecurity       object\n",
            "OnlineBackup         object\n",
            "DeviceProtection     object\n",
            "TechSupport          object\n",
            "StreamingTV          object\n",
            "StreamingMovies      object\n",
            "Contract             object\n",
            "PaperlessBilling     object\n",
            "PaymentMethod        object\n",
            "MonthlyCharges      float64\n",
            "TotalCharges        float64\n",
            "Churn                object\n",
            "dtype: object\n"
          ]
        }
      ],
      "source": [
        "# mengecek tipe kolom, bisa dilakukan dengan memanggil atribut dtypes atau memanggil method `info()`\n",
        "print(df_load.dtypes)"
      ]
    },
    {
      "cell_type": "code",
      "execution_count": 4,
      "id": "d918b26f-019d-4281-b1b5-8d1c16c32030",
      "metadata": {
        "colab": {
          "base_uri": "https://localhost:8080/"
        },
        "id": "d918b26f-019d-4281-b1b5-8d1c16c32030",
        "outputId": "b1b02705-b08b-4ca1-cbb5-2ccb42502ead"
      },
      "outputs": [
        {
          "output_type": "stream",
          "name": "stdout",
          "text": [
            "<class 'pandas.core.frame.DataFrame'>\n",
            "RangeIndex: 7113 entries, 0 to 7112\n",
            "Data columns (total 22 columns):\n",
            " #   Column            Non-Null Count  Dtype  \n",
            "---  ------            --------------  -----  \n",
            " 0   UpdatedAt         7113 non-null   int64  \n",
            " 1   customerID        7113 non-null   object \n",
            " 2   gender            7113 non-null   object \n",
            " 3   SeniorCitizen     7113 non-null   int64  \n",
            " 4   Partner           7113 non-null   object \n",
            " 5   Dependents        7113 non-null   object \n",
            " 6   tenure            7014 non-null   float64\n",
            " 7   PhoneService      7113 non-null   object \n",
            " 8   MultipleLines     7113 non-null   object \n",
            " 9   InternetService   7113 non-null   object \n",
            " 10  OnlineSecurity    7113 non-null   object \n",
            " 11  OnlineBackup      7113 non-null   object \n",
            " 12  DeviceProtection  7113 non-null   object \n",
            " 13  TechSupport       7113 non-null   object \n",
            " 14  StreamingTV       7113 non-null   object \n",
            " 15  StreamingMovies   7113 non-null   object \n",
            " 16  Contract          7113 non-null   object \n",
            " 17  PaperlessBilling  7113 non-null   object \n",
            " 18  PaymentMethod     7113 non-null   object \n",
            " 19  MonthlyCharges    7087 non-null   float64\n",
            " 20  TotalCharges      7098 non-null   float64\n",
            " 21  Churn             7070 non-null   object \n",
            "dtypes: float64(3), int64(2), object(17)\n",
            "memory usage: 1.2+ MB\n",
            "None\n"
          ]
        }
      ],
      "source": [
        "# mengecek summary data null dapat dilakukan dengan beberapa cara\n",
        "# menggunakan method `isnull()`\n",
        "# memanggil method `info()`\n",
        "# menghitung manual nilai null\n",
        "print(df_load.info())"
      ]
    },
    {
      "cell_type": "markdown",
      "id": "9913caf0-fa2f-4766-bea2-5bf8487c9a70",
      "metadata": {
        "id": "9913caf0-fa2f-4766-bea2-5bf8487c9a70"
      },
      "source": [
        "**Quis**\n",
        "\n",
        "Misalkan ada sebuah data frame `df_load` yang terdiri dari 3 kolom, `col1`, `col2` dan `col3`. Bagaimana kita membuat kode python untuk menghitung nilai null secara manual? (hints: fungsi `len()` menghitung seluruh data, sedangkan method `.count()` untuk menghitung data tanpa missing value.)\n",
        "\n",
        "Beri jeda 5 menit"
      ]
    },
    {
      "cell_type": "code",
      "execution_count": 5,
      "id": "5aaf169e-2d5c-48c9-bd57-9c1fb960dc54",
      "metadata": {
        "colab": {
          "base_uri": "https://localhost:8080/",
          "height": 300
        },
        "id": "5aaf169e-2d5c-48c9-bd57-9c1fb960dc54",
        "outputId": "c83ec3c0-2887-4f60-f466-628f2bd2e93e"
      },
      "outputs": [
        {
          "output_type": "execute_result",
          "data": {
            "text/plain": [
              "           UpdatedAt  SeniorCitizen       tenure  MonthlyCharges  TotalCharges\n",
              "count    7113.000000    7113.000000  7014.000000     7087.000000   7098.000000\n",
              "mean   202005.999016       0.161816    32.749358       67.018985   2306.582650\n",
              "std         0.031357       0.368308    25.206376      117.396646   2575.212013\n",
              "min    202005.000000       0.000000     0.000000        0.000000     19.000000\n",
              "25%    202006.000000       0.000000     9.000000       36.100000    402.925000\n",
              "50%    202006.000000       0.000000    30.000000       70.450000   1400.700000\n",
              "75%    202006.000000       0.000000    56.000000       89.900000   3801.600000\n",
              "max    202006.000000       1.000000   500.000000     9000.000000  80000.000000"
            ],
            "text/html": [
              "\n",
              "  <div id=\"df-37b6aa77-22a2-417d-9c24-df44a7f7537b\">\n",
              "    <div class=\"colab-df-container\">\n",
              "      <div>\n",
              "<style scoped>\n",
              "    .dataframe tbody tr th:only-of-type {\n",
              "        vertical-align: middle;\n",
              "    }\n",
              "\n",
              "    .dataframe tbody tr th {\n",
              "        vertical-align: top;\n",
              "    }\n",
              "\n",
              "    .dataframe thead th {\n",
              "        text-align: right;\n",
              "    }\n",
              "</style>\n",
              "<table border=\"1\" class=\"dataframe\">\n",
              "  <thead>\n",
              "    <tr style=\"text-align: right;\">\n",
              "      <th></th>\n",
              "      <th>UpdatedAt</th>\n",
              "      <th>SeniorCitizen</th>\n",
              "      <th>tenure</th>\n",
              "      <th>MonthlyCharges</th>\n",
              "      <th>TotalCharges</th>\n",
              "    </tr>\n",
              "  </thead>\n",
              "  <tbody>\n",
              "    <tr>\n",
              "      <th>count</th>\n",
              "      <td>7113.000000</td>\n",
              "      <td>7113.000000</td>\n",
              "      <td>7014.000000</td>\n",
              "      <td>7087.000000</td>\n",
              "      <td>7098.000000</td>\n",
              "    </tr>\n",
              "    <tr>\n",
              "      <th>mean</th>\n",
              "      <td>202005.999016</td>\n",
              "      <td>0.161816</td>\n",
              "      <td>32.749358</td>\n",
              "      <td>67.018985</td>\n",
              "      <td>2306.582650</td>\n",
              "    </tr>\n",
              "    <tr>\n",
              "      <th>std</th>\n",
              "      <td>0.031357</td>\n",
              "      <td>0.368308</td>\n",
              "      <td>25.206376</td>\n",
              "      <td>117.396646</td>\n",
              "      <td>2575.212013</td>\n",
              "    </tr>\n",
              "    <tr>\n",
              "      <th>min</th>\n",
              "      <td>202005.000000</td>\n",
              "      <td>0.000000</td>\n",
              "      <td>0.000000</td>\n",
              "      <td>0.000000</td>\n",
              "      <td>19.000000</td>\n",
              "    </tr>\n",
              "    <tr>\n",
              "      <th>25%</th>\n",
              "      <td>202006.000000</td>\n",
              "      <td>0.000000</td>\n",
              "      <td>9.000000</td>\n",
              "      <td>36.100000</td>\n",
              "      <td>402.925000</td>\n",
              "    </tr>\n",
              "    <tr>\n",
              "      <th>50%</th>\n",
              "      <td>202006.000000</td>\n",
              "      <td>0.000000</td>\n",
              "      <td>30.000000</td>\n",
              "      <td>70.450000</td>\n",
              "      <td>1400.700000</td>\n",
              "    </tr>\n",
              "    <tr>\n",
              "      <th>75%</th>\n",
              "      <td>202006.000000</td>\n",
              "      <td>0.000000</td>\n",
              "      <td>56.000000</td>\n",
              "      <td>89.900000</td>\n",
              "      <td>3801.600000</td>\n",
              "    </tr>\n",
              "    <tr>\n",
              "      <th>max</th>\n",
              "      <td>202006.000000</td>\n",
              "      <td>1.000000</td>\n",
              "      <td>500.000000</td>\n",
              "      <td>9000.000000</td>\n",
              "      <td>80000.000000</td>\n",
              "    </tr>\n",
              "  </tbody>\n",
              "</table>\n",
              "</div>\n",
              "      <button class=\"colab-df-convert\" onclick=\"convertToInteractive('df-37b6aa77-22a2-417d-9c24-df44a7f7537b')\"\n",
              "              title=\"Convert this dataframe to an interactive table.\"\n",
              "              style=\"display:none;\">\n",
              "        \n",
              "  <svg xmlns=\"http://www.w3.org/2000/svg\" height=\"24px\"viewBox=\"0 0 24 24\"\n",
              "       width=\"24px\">\n",
              "    <path d=\"M0 0h24v24H0V0z\" fill=\"none\"/>\n",
              "    <path d=\"M18.56 5.44l.94 2.06.94-2.06 2.06-.94-2.06-.94-.94-2.06-.94 2.06-2.06.94zm-11 1L8.5 8.5l.94-2.06 2.06-.94-2.06-.94L8.5 2.5l-.94 2.06-2.06.94zm10 10l.94 2.06.94-2.06 2.06-.94-2.06-.94-.94-2.06-.94 2.06-2.06.94z\"/><path d=\"M17.41 7.96l-1.37-1.37c-.4-.4-.92-.59-1.43-.59-.52 0-1.04.2-1.43.59L10.3 9.45l-7.72 7.72c-.78.78-.78 2.05 0 2.83L4 21.41c.39.39.9.59 1.41.59.51 0 1.02-.2 1.41-.59l7.78-7.78 2.81-2.81c.8-.78.8-2.07 0-2.86zM5.41 20L4 18.59l7.72-7.72 1.47 1.35L5.41 20z\"/>\n",
              "  </svg>\n",
              "      </button>\n",
              "      \n",
              "  <style>\n",
              "    .colab-df-container {\n",
              "      display:flex;\n",
              "      flex-wrap:wrap;\n",
              "      gap: 12px;\n",
              "    }\n",
              "\n",
              "    .colab-df-convert {\n",
              "      background-color: #E8F0FE;\n",
              "      border: none;\n",
              "      border-radius: 50%;\n",
              "      cursor: pointer;\n",
              "      display: none;\n",
              "      fill: #1967D2;\n",
              "      height: 32px;\n",
              "      padding: 0 0 0 0;\n",
              "      width: 32px;\n",
              "    }\n",
              "\n",
              "    .colab-df-convert:hover {\n",
              "      background-color: #E2EBFA;\n",
              "      box-shadow: 0px 1px 2px rgba(60, 64, 67, 0.3), 0px 1px 3px 1px rgba(60, 64, 67, 0.15);\n",
              "      fill: #174EA6;\n",
              "    }\n",
              "\n",
              "    [theme=dark] .colab-df-convert {\n",
              "      background-color: #3B4455;\n",
              "      fill: #D2E3FC;\n",
              "    }\n",
              "\n",
              "    [theme=dark] .colab-df-convert:hover {\n",
              "      background-color: #434B5C;\n",
              "      box-shadow: 0px 1px 3px 1px rgba(0, 0, 0, 0.15);\n",
              "      filter: drop-shadow(0px 1px 2px rgba(0, 0, 0, 0.3));\n",
              "      fill: #FFFFFF;\n",
              "    }\n",
              "  </style>\n",
              "\n",
              "      <script>\n",
              "        const buttonEl =\n",
              "          document.querySelector('#df-37b6aa77-22a2-417d-9c24-df44a7f7537b button.colab-df-convert');\n",
              "        buttonEl.style.display =\n",
              "          google.colab.kernel.accessAllowed ? 'block' : 'none';\n",
              "\n",
              "        async function convertToInteractive(key) {\n",
              "          const element = document.querySelector('#df-37b6aa77-22a2-417d-9c24-df44a7f7537b');\n",
              "          const dataTable =\n",
              "            await google.colab.kernel.invokeFunction('convertToInteractive',\n",
              "                                                     [key], {});\n",
              "          if (!dataTable) return;\n",
              "\n",
              "          const docLinkHtml = 'Like what you see? Visit the ' +\n",
              "            '<a target=\"_blank\" href=https://colab.research.google.com/notebooks/data_table.ipynb>data table notebook</a>'\n",
              "            + ' to learn more about interactive tables.';\n",
              "          element.innerHTML = '';\n",
              "          dataTable['output_type'] = 'display_data';\n",
              "          await google.colab.output.renderOutput(dataTable, element);\n",
              "          const docLink = document.createElement('div');\n",
              "          docLink.innerHTML = docLinkHtml;\n",
              "          element.appendChild(docLink);\n",
              "        }\n",
              "      </script>\n",
              "    </div>\n",
              "  </div>\n",
              "  "
            ]
          },
          "metadata": {},
          "execution_count": 5
        }
      ],
      "source": [
        "# Melakukan statistika deskriptif dengan method `describe()`\n",
        "df_load.describe()"
      ]
    },
    {
      "cell_type": "markdown",
      "id": "8cfbe5d0-a134-4dd5-893d-e87c02a77cf5",
      "metadata": {
        "id": "8cfbe5d0-a134-4dd5-893d-e87c02a77cf5"
      },
      "source": [
        "Perhatikan deskripsi data di atas, kita menemukan bahwa data `SeniorCitizen` memiliki nilai 0 dan 1 (min 0 dan max 1). Berdasarkan dokumentasi, dikatakan sebagai berikut `Whether the customer is a senior citizen or not (1, 0)`\n",
        "\n",
        "Data seperti ini adalah data yang seharusnya bertipe kategorikal, bukan numerical. Untuk itu kita akan ganti tipenya menjadi string. (ini tidak harus dilakukan, tapi harus diingat pada saat pemodelan, kita harus memperlakukan data ini sebagai ketgorik dan bukan numeric. Pada bahasa pemrograman lain seperti R, data bertipe ini akan diconvert menjadi tipe khusus yaitu factor). Selain variable `SeniorCitizen`, kita juga mendapati count data pada tenure, MonthlyCharges, dan TotalCharges kurang dari 7113. Ini mengindikasikan bahwa pada data tersebut terdapat missing values."
      ]
    },
    {
      "cell_type": "code",
      "execution_count": 6,
      "id": "ecb22511-51eb-4dbc-8478-f6bac999bef8",
      "metadata": {
        "colab": {
          "base_uri": "https://localhost:8080/"
        },
        "id": "ecb22511-51eb-4dbc-8478-f6bac999bef8",
        "outputId": "2018d95d-65f4-4c53-8c69-841993910d2e"
      },
      "outputs": [
        {
          "output_type": "execute_result",
          "data": {
            "text/plain": [
              "UpdatedAt             int64\n",
              "customerID           object\n",
              "gender               object\n",
              "SeniorCitizen        object\n",
              "Partner              object\n",
              "Dependents           object\n",
              "tenure              float64\n",
              "PhoneService         object\n",
              "MultipleLines        object\n",
              "InternetService      object\n",
              "OnlineSecurity       object\n",
              "OnlineBackup         object\n",
              "DeviceProtection     object\n",
              "TechSupport          object\n",
              "StreamingTV          object\n",
              "StreamingMovies      object\n",
              "Contract             object\n",
              "PaperlessBilling     object\n",
              "PaymentMethod        object\n",
              "MonthlyCharges      float64\n",
              "TotalCharges        float64\n",
              "Churn                object\n",
              "dtype: object"
            ]
          },
          "metadata": {},
          "execution_count": 6
        }
      ],
      "source": [
        "df_load[['SeniorCitizen']] = df_load[['SeniorCitizen']].astype(str)\n",
        "df_load.dtypes"
      ]
    },
    {
      "cell_type": "markdown",
      "id": "b3e37a7a-611a-45cc-b4d7-5fc13998287c",
      "metadata": {
        "id": "b3e37a7a-611a-45cc-b4d7-5fc13998287c"
      },
      "source": [
        "**Quis 2**\n",
        "\n",
        "Jika Anda punya dataframe `df_load`, bagaimana Anda mengambil 6 data teratas dan 5 data terbawah?\n",
        "\n",
        "Beri jedah 3 menit.\n",
        "\n",
        "## 2. Mencari ID pelanggan yang valid.\n",
        "\n",
        "Diketahui bahwa berdasarkan peraturan perusahaan, setiap ID pelanggan dinyatakan valid jika:\n",
        "* Panjang karakter ID adalah 11-12.\n",
        "* Terdidri dari angka saja, tidak boleh ada karakter berjenis lain.\n",
        "* Diawali dengan angka 45 di 2 digit pertama.\n",
        "\n",
        "Untuk menjawab pertanyaan ini, Anda harus memahami konsep regex (di luar scope pembahasan). Untuk melakukan pencarian kriteria data tertentu, kita bisa menggunakan method `str.match()` dari pandas series yang berbentuk object (string). Perhatikan data awal kita (inspect dengan method `info()` atau akses atribut `dtypes`), kolom customerID sudah berbentuk `str` yang diwakilkan dengan `object`. Karena sudah berbentuk `str`, maka seharusnya sudah memiliki method `str.match()`."
      ]
    },
    {
      "cell_type": "code",
      "execution_count": 7,
      "id": "80a87827-9976-4016-ba6b-eb4f2522753a",
      "metadata": {
        "colab": {
          "base_uri": "https://localhost:8080/"
        },
        "id": "80a87827-9976-4016-ba6b-eb4f2522753a",
        "outputId": "75f48842-b130-4cc1-eca1-83409fc62ccd"
      },
      "outputs": [
        {
          "output_type": "execute_result",
          "data": {
            "text/plain": [
              "0       True\n",
              "1       True\n",
              "2       True\n",
              "3       True\n",
              "4       True\n",
              "        ... \n",
              "7108    True\n",
              "7109    True\n",
              "7110    True\n",
              "7111    True\n",
              "7112    True\n",
              "Name: customerID, Length: 7113, dtype: bool"
            ]
          },
          "metadata": {},
          "execution_count": 7
        }
      ],
      "source": [
        "# mencari data dengan method match dari atribut str\n",
        "df_load['customerID'].str.match(r'(45\\d{9,10})')"
      ]
    },
    {
      "cell_type": "markdown",
      "id": "6af4e78a-1871-47f7-a427-742087fd00e2",
      "metadata": {
        "id": "6af4e78a-1871-47f7-a427-742087fd00e2"
      },
      "source": [
        "Notes: jawaban konsol DQLab adalah: `df_load['customerID'].astype(str).str.match(r'(45\\d{9,10})')`\n",
        "\n",
        "Perubahan `astype(str)` di sini, tidak perlu dilakukan ketika teman teman melakukan real code, karena datanya sudah object(string). (Tunjukkan pada peserta method series untuk string dan int64.)\n",
        "\n",
        "Setelah mengetahui regex untuk mencari datanya, selanjutnya kita simpan regex ini ke dalam kolom `valid_id`."
      ]
    },
    {
      "cell_type": "code",
      "execution_count": 8,
      "id": "10552142-8be3-4cc6-a58b-5d7fd7e39544",
      "metadata": {
        "id": "10552142-8be3-4cc6-a58b-5d7fd7e39544"
      },
      "outputs": [],
      "source": [
        "# jawaban di console DQLab\n",
        "df_load['valid_id'] = df_load['customerID'].astype(str).str.match(r'(45\\d{9,10})')"
      ]
    },
    {
      "cell_type": "markdown",
      "id": "085dd2b5-4fe4-4b93-9ef7-22f84390a15b",
      "metadata": {
        "id": "085dd2b5-4fe4-4b93-9ef7-22f84390a15b"
      },
      "source": [
        "Ambil data yang memiliki `valid_id` bernilai True. Lalu kemudian hitung jumlah row data baru yang memiliki id yang valid."
      ]
    },
    {
      "cell_type": "code",
      "execution_count": 9,
      "id": "ea78c879-2831-447a-897a-388f698fd2fd",
      "metadata": {
        "colab": {
          "base_uri": "https://localhost:8080/"
        },
        "id": "ea78c879-2831-447a-897a-388f698fd2fd",
        "outputId": "3ee4faf4-cf12-4e51-8db1-0cd76ade6d09"
      },
      "outputs": [
        {
          "output_type": "execute_result",
          "data": {
            "text/plain": [
              "7006"
            ]
          },
          "metadata": {},
          "execution_count": 9
        }
      ],
      "source": [
        "# ambil hanya kolom valid_id yang bernilai True lalu hapus kolom valid_id\n",
        "# jawaban di console DQLab\n",
        "df_load = (df_load[df_load['valid_id'] == True]).drop('valid_id', axis = 1)\n",
        "# filter == True tidak lagi dibutuhkan.\n",
        "# saat membuat real koding, langsung gunakan kolom valid_id\n",
        "# df_load = (df_load[df_load['valid_id']]).drop('valid_id', axis = 1)\n",
        "\n",
        "# Hitung jumlah row untuk kolom customerID yang valid.\n",
        "df_load['customerID'].count()"
      ]
    },
    {
      "cell_type": "markdown",
      "id": "a65a0251-c04b-4e57-af0f-451e8ca07113",
      "metadata": {
        "id": "a65a0251-c04b-4e57-af0f-451e8ca07113"
      },
      "source": [
        "**Quis**\n",
        "\n",
        "Bagaimana menghitung langsung jumlah ID yang valid dengan kolom valid_id?\n",
        "\n",
        "beri jedah 5 menit.\n",
        "\n",
        "Berbicara tentang validitas data customerID, kita juga perlu memperhatikan duplikasi datanya. Diketahui bahwa peraturan perusahaan melarang adanya transaksi duplikat untuk setiap customerID dalam satu bulan. Artinya pada data ini kita berekspectasi bahwa hanya ada 1 customerID yang melakukan transaksi.\n",
        "\n",
        "Dari keterangan tim bisnis, data duplikasi ternyata terjadi karena hal-hal berikut:\n",
        "\n",
        "- inserting melebihi satu kali dengan nilai yang sama pada tiap kolomnya\n",
        "- duplikasi karena inserting beda periode pengambilan data.\n",
        "\n",
        "Pertanyaannya, apakah data kita memiliki duplikasi?"
      ]
    },
    {
      "cell_type": "code",
      "execution_count": 10,
      "id": "3eb41425-0e22-41b6-9dd8-cbeb38fdb655",
      "metadata": {
        "colab": {
          "base_uri": "https://localhost:8080/"
        },
        "id": "3eb41425-0e22-41b6-9dd8-cbeb38fdb655",
        "outputId": "9800ca0c-5bc7-4e81-ff45-556d34cb5ebf"
      },
      "outputs": [
        {
          "output_type": "stream",
          "name": "stdout",
          "text": [
            "(7006, 22)\n"
          ]
        },
        {
          "output_type": "execute_result",
          "data": {
            "text/plain": [
              "6993"
            ]
          },
          "metadata": {},
          "execution_count": 10
        }
      ],
      "source": [
        "# cek dimensi data\n",
        "print(df_load.shape)\n",
        "# cek duplikasi dengan method nunique()\n",
        "df_load['customerID'].nunique()"
      ]
    },
    {
      "cell_type": "markdown",
      "id": "ac5842d1-a4cd-4b79-8209-302e0f2a6a83",
      "metadata": {
        "id": "ac5842d1-a4cd-4b79-8209-302e0f2a6a83"
      },
      "source": [
        "**Quis**\n",
        "\n",
        "Apakah data customerID terduplikasi? Bagaimana Anda tau data tersebut terduplikasi?"
      ]
    },
    {
      "cell_type": "markdown",
      "id": "fb66e42e-9e2c-429f-bfb2-3b9b3937b671",
      "metadata": {
        "id": "fb66e42e-9e2c-429f-bfb2-3b9b3937b671"
      },
      "source": [
        "Berdasarkan bisnis model, kita bisa melakukan cleansing pada duplicated values dengan cara sebagai berikut."
      ]
    },
    {
      "cell_type": "code",
      "execution_count": 11,
      "id": "18c02ff9-c8db-472c-8b29-a0b3d73ad6d2",
      "metadata": {
        "id": "18c02ff9-c8db-472c-8b29-a0b3d73ad6d2"
      },
      "outputs": [],
      "source": [
        "# menghapus duplikasi ketika kelebihan insert dengan nilai yang sama\n",
        "# jawaban pada console adalah df_load.drop_duplicates()\n",
        "df_load.drop_duplicates(inplace=True)\n",
        "# menghapus duplikasi ketika ada faktor x (periode) dengan kemungkinan nilai yang berbeda\n",
        "df_load = df_load.sort_values('UpdatedAt', ascending=False).drop_duplicates('customerID')\n",
        "\n",
        "# kode ini sama dengan \n",
        "df_load = df_load.sort_values('UpdatedAt', ascending=True).drop_duplicates('customerID', keep=\"last\")"
      ]
    },
    {
      "cell_type": "markdown",
      "id": "03e8df4a-e385-4d1e-a03b-8237c0741ac5",
      "metadata": {
        "id": "03e8df4a-e385-4d1e-a03b-8237c0741ac5"
      },
      "source": [
        "Notes: Pada console jawaban DQLab `df_load.drop_duplicates()` tidak memasukkan parameter inplace=True. Hal ini tidak akan berefek apapun terhadap data kita, kecuali dilakukan reassign.\n",
        "\n",
        "**Optional, Why we sort values on 'UpdatedAt' on descending order before dropping the duplicates?**"
      ]
    },
    {
      "cell_type": "code",
      "execution_count": 12,
      "id": "50d8fbfe-2306-4521-abda-dabdac5901da",
      "metadata": {
        "colab": {
          "base_uri": "https://localhost:8080/"
        },
        "id": "50d8fbfe-2306-4521-abda-dabdac5901da",
        "outputId": "43c563ec-5a02-4f8a-bebf-142241cbef4a"
      },
      "outputs": [
        {
          "output_type": "execute_result",
          "data": {
            "text/plain": [
              "45995925610    2\n",
              "45419036262    2\n",
              "45819132957    2\n",
              "45877978431    2\n",
              "45168014322    2\n",
              "45418334682    2\n",
              "Name: customerID, dtype: int64"
            ]
          },
          "metadata": {},
          "execution_count": 12
        }
      ],
      "source": [
        "df_duplicated = pd.read_csv('https://storage.googleapis.com/dqlab-dataset/dqlab_telco.csv')\n",
        "df_duplicated['valid_id'] = df_duplicated['customerID'].str.match(r'(^45\\d{9,10})')\n",
        "df_duplicated.drop_duplicates(inplace=True)\n",
        "df_duplicated = (df_duplicated[df_duplicated['valid_id'] == True]).drop('valid_id', axis = 1)\n",
        "customerID_count = df_duplicated['customerID'].value_counts()\n",
        "customerID_count[customerID_count > 1]"
      ]
    },
    {
      "cell_type": "code",
      "execution_count": 13,
      "id": "c1a1f494-bd55-46dc-bbae-bc6fa0552cd8",
      "metadata": {
        "colab": {
          "base_uri": "https://localhost:8080/",
          "height": 260
        },
        "id": "c1a1f494-bd55-46dc-bbae-bc6fa0552cd8",
        "outputId": "e2e35940-0fa3-48e1-a2aa-444ee17579f8"
      },
      "outputs": [
        {
          "output_type": "execute_result",
          "data": {
            "text/plain": [
              "    UpdatedAt   customerID  gender  SeniorCitizen Partner Dependents  tenure  \\\n",
              "21     202006  45168014322    Male              0     Yes         No    12.0   \n",
              "19     202006  45418334682  Female              0      No         No    21.0   \n",
              "18     202006  45419036262  Female              0     Yes        Yes    10.0   \n",
              "\n",
              "   PhoneService MultipleLines InternetService       OnlineSecurity  \\\n",
              "21          Yes            No              No  No internet service   \n",
              "19          Yes            No     Fiber optic                   No   \n",
              "18          Yes            No             DSL                   No   \n",
              "\n",
              "           OnlineBackup     DeviceProtection          TechSupport  \\\n",
              "21  No internet service  No internet service  No internet service   \n",
              "19                  Yes                  Yes                   No   \n",
              "18                   No                  Yes                  Yes   \n",
              "\n",
              "            StreamingTV      StreamingMovies        Contract PaperlessBilling  \\\n",
              "21  No internet service  No internet service        One year               No   \n",
              "19                   No                  Yes  Month-to-month              Yes   \n",
              "18                   No                   No  Month-to-month               No   \n",
              "\n",
              "                PaymentMethod  MonthlyCharges  TotalCharges Churn  \n",
              "21  Bank transfer (automatic)           19.80        202.25    No  \n",
              "19           Electronic check           90.05       1862.90    No  \n",
              "18    Credit card (automatic)           55.20        528.35   Yes  "
            ],
            "text/html": [
              "\n",
              "  <div id=\"df-daaddeaf-6bd5-476c-be38-aaad1b70bfa2\">\n",
              "    <div class=\"colab-df-container\">\n",
              "      <div>\n",
              "<style scoped>\n",
              "    .dataframe tbody tr th:only-of-type {\n",
              "        vertical-align: middle;\n",
              "    }\n",
              "\n",
              "    .dataframe tbody tr th {\n",
              "        vertical-align: top;\n",
              "    }\n",
              "\n",
              "    .dataframe thead th {\n",
              "        text-align: right;\n",
              "    }\n",
              "</style>\n",
              "<table border=\"1\" class=\"dataframe\">\n",
              "  <thead>\n",
              "    <tr style=\"text-align: right;\">\n",
              "      <th></th>\n",
              "      <th>UpdatedAt</th>\n",
              "      <th>customerID</th>\n",
              "      <th>gender</th>\n",
              "      <th>SeniorCitizen</th>\n",
              "      <th>Partner</th>\n",
              "      <th>Dependents</th>\n",
              "      <th>tenure</th>\n",
              "      <th>PhoneService</th>\n",
              "      <th>MultipleLines</th>\n",
              "      <th>InternetService</th>\n",
              "      <th>OnlineSecurity</th>\n",
              "      <th>OnlineBackup</th>\n",
              "      <th>DeviceProtection</th>\n",
              "      <th>TechSupport</th>\n",
              "      <th>StreamingTV</th>\n",
              "      <th>StreamingMovies</th>\n",
              "      <th>Contract</th>\n",
              "      <th>PaperlessBilling</th>\n",
              "      <th>PaymentMethod</th>\n",
              "      <th>MonthlyCharges</th>\n",
              "      <th>TotalCharges</th>\n",
              "      <th>Churn</th>\n",
              "    </tr>\n",
              "  </thead>\n",
              "  <tbody>\n",
              "    <tr>\n",
              "      <th>21</th>\n",
              "      <td>202006</td>\n",
              "      <td>45168014322</td>\n",
              "      <td>Male</td>\n",
              "      <td>0</td>\n",
              "      <td>Yes</td>\n",
              "      <td>No</td>\n",
              "      <td>12.0</td>\n",
              "      <td>Yes</td>\n",
              "      <td>No</td>\n",
              "      <td>No</td>\n",
              "      <td>No internet service</td>\n",
              "      <td>No internet service</td>\n",
              "      <td>No internet service</td>\n",
              "      <td>No internet service</td>\n",
              "      <td>No internet service</td>\n",
              "      <td>No internet service</td>\n",
              "      <td>One year</td>\n",
              "      <td>No</td>\n",
              "      <td>Bank transfer (automatic)</td>\n",
              "      <td>19.80</td>\n",
              "      <td>202.25</td>\n",
              "      <td>No</td>\n",
              "    </tr>\n",
              "    <tr>\n",
              "      <th>19</th>\n",
              "      <td>202006</td>\n",
              "      <td>45418334682</td>\n",
              "      <td>Female</td>\n",
              "      <td>0</td>\n",
              "      <td>No</td>\n",
              "      <td>No</td>\n",
              "      <td>21.0</td>\n",
              "      <td>Yes</td>\n",
              "      <td>No</td>\n",
              "      <td>Fiber optic</td>\n",
              "      <td>No</td>\n",
              "      <td>Yes</td>\n",
              "      <td>Yes</td>\n",
              "      <td>No</td>\n",
              "      <td>No</td>\n",
              "      <td>Yes</td>\n",
              "      <td>Month-to-month</td>\n",
              "      <td>Yes</td>\n",
              "      <td>Electronic check</td>\n",
              "      <td>90.05</td>\n",
              "      <td>1862.90</td>\n",
              "      <td>No</td>\n",
              "    </tr>\n",
              "    <tr>\n",
              "      <th>18</th>\n",
              "      <td>202006</td>\n",
              "      <td>45419036262</td>\n",
              "      <td>Female</td>\n",
              "      <td>0</td>\n",
              "      <td>Yes</td>\n",
              "      <td>Yes</td>\n",
              "      <td>10.0</td>\n",
              "      <td>Yes</td>\n",
              "      <td>No</td>\n",
              "      <td>DSL</td>\n",
              "      <td>No</td>\n",
              "      <td>No</td>\n",
              "      <td>Yes</td>\n",
              "      <td>Yes</td>\n",
              "      <td>No</td>\n",
              "      <td>No</td>\n",
              "      <td>Month-to-month</td>\n",
              "      <td>No</td>\n",
              "      <td>Credit card (automatic)</td>\n",
              "      <td>55.20</td>\n",
              "      <td>528.35</td>\n",
              "      <td>Yes</td>\n",
              "    </tr>\n",
              "  </tbody>\n",
              "</table>\n",
              "</div>\n",
              "      <button class=\"colab-df-convert\" onclick=\"convertToInteractive('df-daaddeaf-6bd5-476c-be38-aaad1b70bfa2')\"\n",
              "              title=\"Convert this dataframe to an interactive table.\"\n",
              "              style=\"display:none;\">\n",
              "        \n",
              "  <svg xmlns=\"http://www.w3.org/2000/svg\" height=\"24px\"viewBox=\"0 0 24 24\"\n",
              "       width=\"24px\">\n",
              "    <path d=\"M0 0h24v24H0V0z\" fill=\"none\"/>\n",
              "    <path d=\"M18.56 5.44l.94 2.06.94-2.06 2.06-.94-2.06-.94-.94-2.06-.94 2.06-2.06.94zm-11 1L8.5 8.5l.94-2.06 2.06-.94-2.06-.94L8.5 2.5l-.94 2.06-2.06.94zm10 10l.94 2.06.94-2.06 2.06-.94-2.06-.94-.94-2.06-.94 2.06-2.06.94z\"/><path d=\"M17.41 7.96l-1.37-1.37c-.4-.4-.92-.59-1.43-.59-.52 0-1.04.2-1.43.59L10.3 9.45l-7.72 7.72c-.78.78-.78 2.05 0 2.83L4 21.41c.39.39.9.59 1.41.59.51 0 1.02-.2 1.41-.59l7.78-7.78 2.81-2.81c.8-.78.8-2.07 0-2.86zM5.41 20L4 18.59l7.72-7.72 1.47 1.35L5.41 20z\"/>\n",
              "  </svg>\n",
              "      </button>\n",
              "      \n",
              "  <style>\n",
              "    .colab-df-container {\n",
              "      display:flex;\n",
              "      flex-wrap:wrap;\n",
              "      gap: 12px;\n",
              "    }\n",
              "\n",
              "    .colab-df-convert {\n",
              "      background-color: #E8F0FE;\n",
              "      border: none;\n",
              "      border-radius: 50%;\n",
              "      cursor: pointer;\n",
              "      display: none;\n",
              "      fill: #1967D2;\n",
              "      height: 32px;\n",
              "      padding: 0 0 0 0;\n",
              "      width: 32px;\n",
              "    }\n",
              "\n",
              "    .colab-df-convert:hover {\n",
              "      background-color: #E2EBFA;\n",
              "      box-shadow: 0px 1px 2px rgba(60, 64, 67, 0.3), 0px 1px 3px 1px rgba(60, 64, 67, 0.15);\n",
              "      fill: #174EA6;\n",
              "    }\n",
              "\n",
              "    [theme=dark] .colab-df-convert {\n",
              "      background-color: #3B4455;\n",
              "      fill: #D2E3FC;\n",
              "    }\n",
              "\n",
              "    [theme=dark] .colab-df-convert:hover {\n",
              "      background-color: #434B5C;\n",
              "      box-shadow: 0px 1px 3px 1px rgba(0, 0, 0, 0.15);\n",
              "      filter: drop-shadow(0px 1px 2px rgba(0, 0, 0, 0.3));\n",
              "      fill: #FFFFFF;\n",
              "    }\n",
              "  </style>\n",
              "\n",
              "      <script>\n",
              "        const buttonEl =\n",
              "          document.querySelector('#df-daaddeaf-6bd5-476c-be38-aaad1b70bfa2 button.colab-df-convert');\n",
              "        buttonEl.style.display =\n",
              "          google.colab.kernel.accessAllowed ? 'block' : 'none';\n",
              "\n",
              "        async function convertToInteractive(key) {\n",
              "          const element = document.querySelector('#df-daaddeaf-6bd5-476c-be38-aaad1b70bfa2');\n",
              "          const dataTable =\n",
              "            await google.colab.kernel.invokeFunction('convertToInteractive',\n",
              "                                                     [key], {});\n",
              "          if (!dataTable) return;\n",
              "\n",
              "          const docLinkHtml = 'Like what you see? Visit the ' +\n",
              "            '<a target=\"_blank\" href=https://colab.research.google.com/notebooks/data_table.ipynb>data table notebook</a>'\n",
              "            + ' to learn more about interactive tables.';\n",
              "          element.innerHTML = '';\n",
              "          dataTable['output_type'] = 'display_data';\n",
              "          await google.colab.output.renderOutput(dataTable, element);\n",
              "          const docLink = document.createElement('div');\n",
              "          docLink.innerHTML = docLinkHtml;\n",
              "          element.appendChild(docLink);\n",
              "        }\n",
              "      </script>\n",
              "    </div>\n",
              "  </div>\n",
              "  "
            ]
          },
          "metadata": {},
          "execution_count": 13
        }
      ],
      "source": [
        "# kita mendapatkan 6 data terduplikat yang bukan disebabkan karena insert berlebihan\n",
        "# selanjutnya kita cek pola atau pattern data ini\n",
        "df_duplicated[df_duplicated['customerID'].str.match('(45168014322|45418334682|45419036262)')].sort_values(['customerID','UpdatedAt']).drop_duplicates('customerID', keep=\"last\")"
      ]
    },
    {
      "cell_type": "markdown",
      "id": "7aca5259-31e6-47d2-b64a-8f18d31649cf",
      "metadata": {
        "id": "7aca5259-31e6-47d2-b64a-8f18d31649cf"
      },
      "source": [
        "Ternyata data yang terduplikasi itu ada di periode 202005 dan 202006. Nah, periode yang kita gunakan adalah 202006. Untuk menentukan strategi sorting yang kita gunakan, kita baca dulu dokumentasi terkait method `drop_duplicates()`."
      ]
    },
    {
      "cell_type": "code",
      "execution_count": 14,
      "id": "229c30e0-ee8f-44e0-bc53-b8bb2c7d3de6",
      "metadata": {
        "colab": {
          "base_uri": "https://localhost:8080/"
        },
        "id": "229c30e0-ee8f-44e0-bc53-b8bb2c7d3de6",
        "outputId": "f91325ec-b474-4336-c18a-385403827f16"
      },
      "outputs": [
        {
          "output_type": "stream",
          "name": "stdout",
          "text": [
            "Help on method drop_duplicates in module pandas.core.frame:\n",
            "\n",
            "drop_duplicates(subset: 'Hashable | Sequence[Hashable] | None' = None, keep: \"Literal['first'] | Literal['last'] | Literal[False]\" = 'first', inplace: 'bool' = False, ignore_index: 'bool' = False) -> 'DataFrame | None' method of pandas.core.frame.DataFrame instance\n",
            "    Return DataFrame with duplicate rows removed.\n",
            "    \n",
            "    Considering certain columns is optional. Indexes, including time indexes\n",
            "    are ignored.\n",
            "    \n",
            "    Parameters\n",
            "    ----------\n",
            "    subset : column label or sequence of labels, optional\n",
            "        Only consider certain columns for identifying duplicates, by\n",
            "        default use all of the columns.\n",
            "    keep : {'first', 'last', False}, default 'first'\n",
            "        Determines which duplicates (if any) to keep.\n",
            "        - ``first`` : Drop duplicates except for the first occurrence.\n",
            "        - ``last`` : Drop duplicates except for the last occurrence.\n",
            "        - False : Drop all duplicates.\n",
            "    inplace : bool, default False\n",
            "        Whether to drop duplicates in place or to return a copy.\n",
            "    ignore_index : bool, default False\n",
            "        If True, the resulting axis will be labeled 0, 1, …, n - 1.\n",
            "    \n",
            "        .. versionadded:: 1.0.0\n",
            "    \n",
            "    Returns\n",
            "    -------\n",
            "    DataFrame or None\n",
            "        DataFrame with duplicates removed or None if ``inplace=True``.\n",
            "    \n",
            "    See Also\n",
            "    --------\n",
            "    DataFrame.value_counts: Count unique combinations of columns.\n",
            "    \n",
            "    Examples\n",
            "    --------\n",
            "    Consider dataset containing ramen rating.\n",
            "    \n",
            "    >>> df = pd.DataFrame({\n",
            "    ...     'brand': ['Yum Yum', 'Yum Yum', 'Indomie', 'Indomie', 'Indomie'],\n",
            "    ...     'style': ['cup', 'cup', 'cup', 'pack', 'pack'],\n",
            "    ...     'rating': [4, 4, 3.5, 15, 5]\n",
            "    ... })\n",
            "    >>> df\n",
            "        brand style  rating\n",
            "    0  Yum Yum   cup     4.0\n",
            "    1  Yum Yum   cup     4.0\n",
            "    2  Indomie   cup     3.5\n",
            "    3  Indomie  pack    15.0\n",
            "    4  Indomie  pack     5.0\n",
            "    \n",
            "    By default, it removes duplicate rows based on all columns.\n",
            "    \n",
            "    >>> df.drop_duplicates()\n",
            "        brand style  rating\n",
            "    0  Yum Yum   cup     4.0\n",
            "    2  Indomie   cup     3.5\n",
            "    3  Indomie  pack    15.0\n",
            "    4  Indomie  pack     5.0\n",
            "    \n",
            "    To remove duplicates on specific column(s), use ``subset``.\n",
            "    \n",
            "    >>> df.drop_duplicates(subset=['brand'])\n",
            "        brand style  rating\n",
            "    0  Yum Yum   cup     4.0\n",
            "    2  Indomie   cup     3.5\n",
            "    \n",
            "    To remove duplicates and keep last occurrences, use ``keep``.\n",
            "    \n",
            "    >>> df.drop_duplicates(subset=['brand', 'style'], keep='last')\n",
            "        brand style  rating\n",
            "    1  Yum Yum   cup     4.0\n",
            "    2  Indomie   cup     3.5\n",
            "    4  Indomie  pack     5.0\n",
            "\n"
          ]
        }
      ],
      "source": [
        "help(df_duplicated.drop_duplicates)"
      ]
    },
    {
      "cell_type": "markdown",
      "id": "ea68575f-dc06-438c-b933-a713f6df725a",
      "metadata": {
        "id": "ea68575f-dc06-438c-b933-a713f6df725a"
      },
      "source": [
        "Dari dokumentasinya, ternyata method `drop_duplicates()` akan menyimpan value pertama dari nilai yang double. Value ini dikontrol oleh parameter dengan nama `keep`. Dokumentasi berbunyi `keep : {'first', 'last', False}, default 'first'`. Karena parameter ascending secara default bernilai True yang artinya 202005 akan muncul terlebih dahulu, sedangkan default yang diambil adalah yang pertama, maka untuk mendapatkan data periode 202006, kita bisa menggunakan 2 logic.\n",
        "1. Mengubah parameter ascending menjadi False.\n",
        "2. Tetap menggunakan ascending True dengan mengubah parameter keep menjadi last.\n",
        "\n",
        "Notes: Konsole DQLab menggunakan metode yang pertama."
      ]
    },
    {
      "cell_type": "markdown",
      "id": "485e4fda-38fc-421a-b708-40efbc282c4f",
      "metadata": {
        "id": "485e4fda-38fc-421a-b708-40efbc282c4f"
      },
      "source": [
        "## 3. Mengatasi data-data yang masih kosong (missing values)\n",
        "\n",
        "Pada materi data quality, ketika menghadapi missing values, kita punya beberapa pilihan seperti: menghapus kolom-nya (tidak menggunakan fitur yang data-nya hilang), menghapus record yang nilai-nya hilang atau mengganti nilai yang hilang dengan nilai statistik lain atau nilai predictive."
      ]
    },
    {
      "cell_type": "code",
      "execution_count": 15,
      "id": "a7a5cc49-b16c-428f-9c5f-6daf393f75d7",
      "metadata": {
        "colab": {
          "base_uri": "https://localhost:8080/"
        },
        "id": "a7a5cc49-b16c-428f-9c5f-6daf393f75d7",
        "outputId": "39f74e55-06ed-448c-c247-54ca8a344750"
      },
      "outputs": [
        {
          "output_type": "execute_result",
          "data": {
            "text/plain": [
              "tenure            1.42%\n",
              "MonthlyCharges    0.37%\n",
              "TotalCharges      0.21%\n",
              "Churn             0.61%\n",
              "dtype: object"
            ]
          },
          "metadata": {},
          "execution_count": 15
        }
      ],
      "source": [
        "df_null_cust = (df_load.isnull().sum()[df_load.isnull().sum() > 1]/len(df_load.index))\n",
        "# [val for val in df_null_cust]\n",
        "pd.Series([\"{0:.2f}%\".format(val * 100) for val in df_null_cust], index=df_null_cust.index)"
      ]
    },
    {
      "cell_type": "markdown",
      "id": "c73bed63-ce6d-459c-bd2c-8c8c13026e0e",
      "metadata": {
        "id": "c73bed63-ce6d-459c-bd2c-8c8c13026e0e"
      },
      "source": [
        "Di sini kita melihat ada 4 kolom yang memiliki nilai missing value dengan total persentase missing value di bawah 10%. Dari keterangan bisnis user, missing value untuk tenor dapat diisi dengan nilai `11`, sedangkan nilai missing value untuk kolom numeric lainnya diisi dengan median datanya. Sedangkan untuk kolom churn, ketika ada missing value, kita akan hapus records yang missing."
      ]
    },
    {
      "cell_type": "code",
      "execution_count": 16,
      "id": "d1d482a7-3b21-423b-b4f5-170b92b1d80d",
      "metadata": {
        "id": "d1d482a7-3b21-423b-b4f5-170b92b1d80d"
      },
      "outputs": [],
      "source": [
        "# menghapus record dengan missing value\n",
        "df_load.dropna(subset=['Churn'], inplace=True)\n",
        "# mengganti nilai numeric tenure dengan angka 11\n",
        "df_load['tenure'].fillna(11, inplace=True)\n",
        "\n",
        "# mengganti nilai numeric lain selain tenure dengan nilai mediannya\n",
        "for col_name in ['MonthlyCharges', 'TotalCharges']:\n",
        "    median = df_load[col_name].median()\n",
        "    df_load[col_name].fillna(median, inplace=True)\n",
        "    \n",
        "# Note untuk jawaban pada console DQLab:\n",
        "for col_name in list(['MonthlyCharges', 'TotalCharges']):\n",
        "    median = df_load[col_name].median()\n",
        "    df_load[col_name].fillna(median, inplace=True)\n",
        "# dilakukan conversi ke list untuk ['MonthlyCharges','TotalCharges']\n",
        "# dalam dunia kodingan nyata, sebaiknya tidak dilakukan\n",
        "# karena ['MonthlyCharges','TotalCharges'] sudah dalam bentuk list\n",
        "# mengubah list menjadi list adalah hal yang kurang efektif."
      ]
    },
    {
      "cell_type": "code",
      "execution_count": 17,
      "id": "cb585efc-d8b1-4de3-9af8-a352a0fd97f2",
      "metadata": {
        "id": "cb585efc-d8b1-4de3-9af8-a352a0fd97f2"
      },
      "outputs": [],
      "source": [
        "# cara lain untuk mengubah nilai numeric lain menjadi median adalah dengan kombinasi apply dan lambda\n",
        "df_load = df_load.apply(lambda x: x.fillna(x.median()) if x.dtype.kind in 'biufc' else x, axis=1)\n",
        "\n",
        "# referensi dtype kind https://numpy.org/doc/stable/reference/generated/numpy.dtype.kind.html"
      ]
    },
    {
      "cell_type": "code",
      "execution_count": 18,
      "id": "88d839b0-e9eb-4821-847b-acd7ad775cfe",
      "metadata": {
        "colab": {
          "base_uri": "https://localhost:8080/",
          "height": 35
        },
        "id": "88d839b0-e9eb-4821-847b-acd7ad775cfe",
        "outputId": "278ea49b-728e-4228-ab71-bb4d11ec1ac4"
      },
      "outputs": [
        {
          "output_type": "execute_result",
          "data": {
            "text/plain": [
              "'f'"
            ],
            "application/vnd.google.colaboratory.intrinsic+json": {
              "type": "string"
            }
          },
          "metadata": {},
          "execution_count": 18
        }
      ],
      "source": [
        "df_load['MonthlyCharges'].dtype.kind"
      ]
    },
    {
      "cell_type": "markdown",
      "id": "0b08f2bf-620f-4878-82f5-2a1a0ab282d4",
      "metadata": {
        "id": "0b08f2bf-620f-4878-82f5-2a1a0ab282d4"
      },
      "source": [
        "**Mengapa Kita Menggunakan Median untuk Mengisi Nilai Yang Hilang?**\n",
        "\n",
        "Sebelum memutuskan untuk mengisi nilai yang hilang dengan suatu nilai statistik, kita terlebih dahulu harus memahami datanya. Salah satu aspek yang bisa kita analisa adalah marjinal distribusinya. Untuk melihat marjina distribusinya, kita bisa menggunakan histogram ataupun grafik density."
      ]
    },
    {
      "cell_type": "code",
      "execution_count": 19,
      "id": "ec322d73-b304-4b4d-bbfc-791a18edee53",
      "metadata": {
        "colab": {
          "base_uri": "https://localhost:8080/",
          "height": 369
        },
        "id": "ec322d73-b304-4b4d-bbfc-791a18edee53",
        "outputId": "06b4a092-d4e0-4323-b649-aef8d7816fd1"
      },
      "outputs": [
        {
          "output_type": "display_data",
          "data": {
            "text/plain": [
              "<Figure size 360x360 with 1 Axes>"
            ],
            "image/png": "[encoded data removed]"
          },
          "metadata": {
            "needs_background": "light"
          }
        }
      ],
      "source": [
        "sns.displot(df_load, x=\"MonthlyCharges\", kde=True)\n",
        "plt.show()"
      ]
    },
    {
      "cell_type": "code",
      "execution_count": 20,
      "id": "5eb8c4f4-ac5c-478d-a3bf-1b146595baa0",
      "metadata": {
        "colab": {
          "base_uri": "https://localhost:8080/",
          "height": 369
        },
        "id": "5eb8c4f4-ac5c-478d-a3bf-1b146595baa0",
        "outputId": "cf52e1ae-b507-470a-a4a2-8a75d3344f26"
      },
      "outputs": [
        {
          "output_type": "display_data",
          "data": {
            "text/plain": [
              "<Figure size 360x360 with 1 Axes>"
            ],
            "image/png": "[encoded data removed]"
          },
          "metadata": {
            "needs_background": "light"
          }
        }
      ],
      "source": [
        "sns.displot(df_load, x=\"TotalCharges\", kde=True)\n",
        "plt.show()"
      ]
    },
    {
      "cell_type": "markdown",
      "id": "05ebf378-5a3f-449b-884f-ad1815e0187f",
      "metadata": {
        "id": "05ebf378-5a3f-449b-884f-ad1815e0187f"
      },
      "source": [
        "## 3. Mengatasi nilai nilai pencilan (outlier) dari setiap variable\n",
        "\n",
        "Pada materi data quality with Python dijelaskan bahwa untuk mendeteksi outliers, kita bisa menggunakan IQR (interquartile range) untuk mendeteksi keberadaan outliers. Cara lain yang paling populer untuk melihat outlier adalah dengan menggunakan boxplot.\n",
        "\n",
        "![image.png](attachment:912ab7e8-38b6-4837-9c01-7103eecbea5a.png)\n",
        "\n",
        "Pada kondisi data telco kita, kita diminta untuk mengatasi data outlier dari kolom tenure, MonthlyCharges, dan TotalCharges. Namun sebelum mengisi nilai outliers itu, tentunya kita harus tahu, benarkah ada nilai outlier pada ketiga variable tersebut? Untuk mengetahuinya kita bisa membuat boxplot sebagai berikut."
      ]
    },
    {
      "cell_type": "code",
      "execution_count": 21,
      "id": "8fe54aaa-6a37-48a7-8913-94cc131f11da",
      "metadata": {
        "colab": {
          "base_uri": "https://localhost:8080/",
          "height": 279
        },
        "id": "8fe54aaa-6a37-48a7-8913-94cc131f11da",
        "outputId": "eb3b2e0b-cb12-486e-db75-425c978e5a89"
      },
      "outputs": [
        {
          "output_type": "display_data",
          "data": {
            "text/plain": [
              "<Figure size 432x288 with 1 Axes>"
            ],
            "image/png": "[encoded data removed]"
          },
          "metadata": {
            "needs_background": "light"
          }
        }
      ],
      "source": [
        "# untuk menampilkan boxplot dengan seaborn, ada 2 cara\n",
        "# cara 1 sesuai dengan kurikulum DQLab\n",
        "plt.figure()  # membuat chart baru \n",
        "sns.boxplot(x=df_load[\"tenure\"])\n",
        "plt.show()"
      ]
    },
    {
      "cell_type": "code",
      "execution_count": 22,
      "id": "790eeda3-1d0a-4f67-bb74-fc6b64f0e131",
      "metadata": {
        "colab": {
          "base_uri": "https://localhost:8080/",
          "height": 279
        },
        "id": "790eeda3-1d0a-4f67-bb74-fc6b64f0e131",
        "outputId": "fdfc3352-1cf1-4862-a73f-166605ea7813"
      },
      "outputs": [
        {
          "output_type": "display_data",
          "data": {
            "text/plain": [
              "<Figure size 432x288 with 1 Axes>"
            ],
            "image/png": "[encoded data removed]"
          },
          "metadata": {
            "needs_background": "light"
          }
        }
      ],
      "source": [
        "plt.figure()  # membuat chart baru \n",
        "sns.boxplot(x=df_load[\"MonthlyCharges\"])\n",
        "plt.show()"
      ]
    },
    {
      "cell_type": "code",
      "execution_count": 23,
      "id": "fe247584-b2b4-4a9a-9a6c-849591ef71a0",
      "metadata": {
        "colab": {
          "base_uri": "https://localhost:8080/",
          "height": 279
        },
        "id": "fe247584-b2b4-4a9a-9a6c-849591ef71a0",
        "outputId": "162706eb-7372-4389-ba45-1c72265621f6"
      },
      "outputs": [
        {
          "output_type": "display_data",
          "data": {
            "text/plain": [
              "<Figure size 432x288 with 1 Axes>"
            ],
            "image/png": "[encoded data removed]"
          },
          "metadata": {
            "needs_background": "light"
          }
        }
      ],
      "source": [
        "plt.figure()  # membuat chart baru \n",
        "sns.boxplot(x=df_load[\"TotalCharges\"])\n",
        "plt.show()"
      ]
    },
    {
      "cell_type": "code",
      "execution_count": 24,
      "id": "e4fd29f1-d257-4c17-9bdb-8df93b9be083",
      "metadata": {
        "colab": {
          "base_uri": "https://localhost:8080/",
          "height": 279
        },
        "id": "e4fd29f1-d257-4c17-9bdb-8df93b9be083",
        "outputId": "4c100dff-261e-44be-faf0-db1902857dfd"
      },
      "outputs": [
        {
          "output_type": "display_data",
          "data": {
            "text/plain": [
              "<Figure size 432x288 with 1 Axes>"
            ],
            "image/png": "[encoded data removed]"
          },
          "metadata": {
            "needs_background": "light"
          }
        }
      ],
      "source": [
        "# bisa juga tanpa deklarasi figure dan dengan menggunakan argument data\n",
        "sns.boxplot(x=\"tenure\", data=df_load)\n",
        "plt.show()"
      ]
    },
    {
      "cell_type": "markdown",
      "id": "f1f94546-731c-48e8-a478-c5d0508b81be",
      "metadata": {
        "id": "f1f94546-731c-48e8-a478-c5d0508b81be"
      },
      "source": [
        "**Quis**\n",
        "\n",
        "Tuliskan kode Python untuk mencari data outlier pada data frame `df_load` di kolom `tenure` secara manual?\n",
        "(hints: gunakan method `quantile()`, cari IQR)\n",
        "\n",
        "Beri jeadah 10 menit.\n",
        "\n",
        "Sebelumnya dengan boxplot, kita sudah mengetahui bahwa ada nilai outlier, atau pencilan data pada ketiga kolom. Kita diminta untuk mengisi nilai outlier ini dengan nilai batas maksimum dan minimum data dianggap tidak outlier. Untuk melakukan ini, kita pelu melakukan beberapa langkah:\n",
        "\n",
        "1. Mencari nilai batas maksimum dan minimum dari data yang kita ingin ganti nilainya\n",
        "2. Mengubah nilai outlier dengan nilai minimum dan maksimum yang kita peroleh."
      ]
    },
    {
      "cell_type": "code",
      "execution_count": 35,
      "id": "2070d262-d75b-4f06-8a20-a0205462b512",
      "metadata": {
        "colab": {
          "base_uri": "https://localhost:8080/"
        },
        "id": "2070d262-d75b-4f06-8a20-a0205462b512",
        "outputId": "c26a9a25-d238-4a3e-c647-616bb4efcc4e"
      },
      "outputs": [
        {
          "output_type": "execute_result",
          "data": {
            "text/plain": [
              "Churn                      NaN\n",
              "Contract                   NaN\n",
              "Dependents                 NaN\n",
              "DeviceProtection           NaN\n",
              "InternetService            NaN\n",
              "MonthlyCharges       169.93125\n",
              "MultipleLines              NaN\n",
              "OnlineBackup               NaN\n",
              "OnlineSecurity             NaN\n",
              "PaperlessBilling           NaN\n",
              "Partner                    NaN\n",
              "PaymentMethod              NaN\n",
              "PhoneService               NaN\n",
              "SeniorCitizen              NaN\n",
              "StreamingMovies            NaN\n",
              "StreamingTV                NaN\n",
              "TechSupport                NaN\n",
              "TotalCharges        8889.13125\n",
              "UpdatedAt                  NaN\n",
              "customerID                 NaN\n",
              "gender                     NaN\n",
              "tenure               124.00000\n",
              "Name: maximum, dtype: float64"
            ]
          },
          "metadata": {},
          "execution_count": 35
        }
      ],
      "source": [
        "df_load, maximum = df_load.align(maximum, axis=1, copy=False)\n",
        "maximum"
      ]
    },
    {
      "cell_type": "code",
      "execution_count": 26,
      "id": "5e4f66ce-03fc-432f-9675-6af486b42afb",
      "metadata": {
        "colab": {
          "base_uri": "https://localhost:8080/"
        },
        "id": "5e4f66ce-03fc-432f-9675-6af486b42afb",
        "outputId": "53942630-9b27-4a8a-8bcf-59ebdf7e0947"
      },
      "outputs": [
        {
          "output_type": "stream",
          "name": "stdout",
          "text": [
            "Nilai Maximum dari masing-masing Variable adalah: \n",
            "tenure             124.00000\n",
            "MonthlyCharges     169.93125\n",
            "TotalCharges      8889.13125\n",
            "dtype: float64\n",
            "\n",
            "Nilai Minimum dari masing-masing Variable adalah: \n",
            "tenure             -60.00000\n",
            "MonthlyCharges     -43.61875\n",
            "TotalCharges     -4682.31875\n",
            "dtype: float64\n",
            "\n",
            "Persebaran data setelah ditangani Outlier: \n",
            "            tenure  MonthlyCharges  TotalCharges\n",
            "count  6950.000000     6950.000000   6950.000000\n",
            "mean     32.423165       64.992201   2286.058750\n",
            "std      24.581073       30.032040   2265.702553\n",
            "min       0.000000        0.000000     19.000000\n",
            "25%       9.000000       36.462500    406.975000\n",
            "50%      29.000000       70.450000   1400.850000\n",
            "75%      55.000000       89.850000   3799.837500\n",
            "max     124.000000      169.931250   8889.131250\n"
          ]
        },
        {
          "output_type": "stream",
          "name": "stderr",
          "text": [
            "<ipython-input-26-d192d651bb35>:11: FutureWarning: Automatic reindexing on DataFrame vs Series comparisons is deprecated and will raise ValueError in a future version.  Do `left, right = left.align(right, axis=1, copy=False)` before e.g. `left == right`\n",
            "  more_than = (df_load > maximum)\n",
            "<ipython-input-26-d192d651bb35>:12: FutureWarning: Automatic reindexing on DataFrame vs Series comparisons is deprecated and will raise ValueError in a future version.  Do `left, right = left.align(right, axis=1, copy=False)` before e.g. `left == right`\n",
            "  lower_than = (df_load < minimum)\n"
          ]
        }
      ],
      "source": [
        "# approach 01 sesuai console DQLab\n",
        "Q1 = df_load[['tenure', 'MonthlyCharges', 'TotalCharges']].quantile(0.25)\n",
        "Q3 = df_load[['tenure', 'MonthlyCharges', 'TotalCharges']].quantile(0.75)\n",
        "IQR = Q3 - Q1\n",
        "maximum = Q3 + (1.5*IQR)\n",
        "print('Nilai Maximum dari masing-masing Variable adalah: ')\n",
        "print(maximum)\n",
        "minimum = Q1 - (1.5*IQR)\n",
        "print('\\nNilai Minimum dari masing-masing Variable adalah: ')\n",
        "print(minimum)\n",
        "more_than = (df_load > maximum)\n",
        "lower_than = (df_load < minimum)\n",
        "df_load = df_load.mask(more_than, maximum, axis=1)\n",
        "df_load = df_load.mask(lower_than, minimum, axis=1)\n",
        "\n",
        "print('\\nPersebaran data setelah ditangani Outlier: ')\n",
        "print(df_load[['tenure','MonthlyCharges','TotalCharges']].describe())"
      ]
    },
    {
      "cell_type": "markdown",
      "id": "399b20f6-5b98-41f9-972e-01ee88bb4225",
      "metadata": {
        "id": "399b20f6-5b98-41f9-972e-01ee88bb4225"
      },
      "source": [
        "Notes : Pada kode di atas, jika Anda menggunakan pandas versi terbaru akan muncul deprecation warning. Deprecation warning ini artinya adalah pada versi terbaru pandas nantinya, kode di atas tidak lagi bisa langsung diimplementasikan. Jika Anda ingin melakukan hal yang sama pada dunia nyata, maka sebelum kode `more_than = (df_load > maximum)`, Anda tuliskan kode `df_load, maximum = df_load.align(maximum, axis = 1, copy = False)`."
      ]
    },
    {
      "cell_type": "code",
      "execution_count": 27,
      "id": "7d0539f5-7a70-49b2-a2d1-94aa938243d5",
      "metadata": {
        "id": "7d0539f5-7a70-49b2-a2d1-94aa938243d5"
      },
      "outputs": [],
      "source": [
        "# aproach 2\n",
        "Qu = df_load[['tenure', 'MonthlyCharges', 'TotalCharges']].quantile([0.25, .75])\n",
        "IQR = Qu.iloc[1] - Qu.iloc[0]\n",
        "Qu.iloc[0] -= (1.5 * IQR)\n",
        "Qu.iloc[1] += (1.5 * IQR)\n",
        "Qu.index = ['minimum', 'maximum']\n",
        "df_load, maximum = df_load.align(Qu.loc[\"maximum\"], axis=1, copy=False)\n",
        "df_load, minimum = df_load.align(Qu.loc[\"minimum\"], axis=1, copy=False)\n",
        "less_than, greater_than = (df_load < minimum), (df_load > maximum) \n",
        "df_load = df_load.mask(less_than, minimum, axis=1)\n",
        "df_load = df_load.mask(greater_than, maximum, axis=1)"
      ]
    },
    {
      "cell_type": "markdown",
      "id": "5d5f699d-1987-4a72-ae95-84808496893a",
      "metadata": {
        "id": "5d5f699d-1987-4a72-ae95-84808496893a"
      },
      "source": [
        "## 4. Menstandarisasi nilai dari variable.\n",
        "\n",
        "Pada kasus terakhir ini, kita berinisiatif untuk mengecek setiap variable data yang kita miliki. Yang kita lakukan adalah mengecek nilai unik setiap variable kategorisnya. Tidak standarnya suatu data bisa terjadi karena adanya kesalahan input. Untuk mengecek variable kategorik yang tidak standar, kita pertama-tama bisa mengecek nilai uniknya."
      ]
    },
    {
      "cell_type": "code",
      "execution_count": 28,
      "id": "97609eb3-3c71-4c97-ab18-51a2f17302c2",
      "metadata": {
        "colab": {
          "base_uri": "https://localhost:8080/"
        },
        "id": "97609eb3-3c71-4c97-ab18-51a2f17302c2",
        "outputId": "c74b6efb-fd2f-4671-c4fc-6c987a3e9618"
      },
      "outputs": [
        {
          "output_type": "stream",
          "name": "stdout",
          "text": [
            "\n",
            "Unique Values Count \u001b[1mBefore Standardized \u001b[0m Variable gender\n",
            "Male         3499\n",
            "Female       3431\n",
            "Wanita         14\n",
            "Laki-Laki       6\n",
            "Name: gender, dtype: int64\n",
            "\n",
            "Unique Values Count \u001b[1mBefore Standardized \u001b[0m Variable SeniorCitizen\n",
            "0    5822\n",
            "1    1128\n",
            "Name: SeniorCitizen, dtype: int64\n",
            "\n",
            "Unique Values Count \u001b[1mBefore Standardized \u001b[0m Variable Partner\n",
            "No     3591\n",
            "Yes    3359\n",
            "Name: Partner, dtype: int64\n",
            "\n",
            "Unique Values Count \u001b[1mBefore Standardized \u001b[0m Variable Dependents\n",
            "No     4870\n",
            "Yes    2060\n",
            "Iya      20\n",
            "Name: Dependents, dtype: int64\n",
            "\n",
            "Unique Values Count \u001b[1mBefore Standardized \u001b[0m Variable PhoneService\n",
            "Yes    6281\n",
            "No      669\n",
            "Name: PhoneService, dtype: int64\n",
            "\n",
            "Unique Values Count \u001b[1mBefore Standardized \u001b[0m Variable MultipleLines\n",
            "No                  3346\n",
            "Yes                 2935\n",
            "No phone service     669\n",
            "Name: MultipleLines, dtype: int64\n",
            "\n",
            "Unique Values Count \u001b[1mBefore Standardized \u001b[0m Variable InternetService\n",
            "Fiber optic    3057\n",
            "DSL            2388\n",
            "No             1505\n",
            "Name: InternetService, dtype: int64\n",
            "\n",
            "Unique Values Count \u001b[1mBefore Standardized \u001b[0m Variable OnlineSecurity\n",
            "No                     3454\n",
            "Yes                    1991\n",
            "No internet service    1505\n",
            "Name: OnlineSecurity, dtype: int64\n",
            "\n",
            "Unique Values Count \u001b[1mBefore Standardized \u001b[0m Variable OnlineBackup\n",
            "No                     3045\n",
            "Yes                    2400\n",
            "No internet service    1505\n",
            "Name: OnlineBackup, dtype: int64\n",
            "\n",
            "Unique Values Count \u001b[1mBefore Standardized \u001b[0m Variable DeviceProtection\n",
            "No                     3054\n",
            "Yes                    2391\n",
            "No internet service    1505\n",
            "Name: DeviceProtection, dtype: int64\n",
            "\n",
            "Unique Values Count \u001b[1mBefore Standardized \u001b[0m Variable TechSupport\n",
            "No                     3431\n",
            "Yes                    2014\n",
            "No internet service    1505\n",
            "Name: TechSupport, dtype: int64\n",
            "\n",
            "Unique Values Count \u001b[1mBefore Standardized \u001b[0m Variable StreamingTV\n",
            "No                     2774\n",
            "Yes                    2671\n",
            "No internet service    1505\n",
            "Name: StreamingTV, dtype: int64\n",
            "\n",
            "Unique Values Count \u001b[1mBefore Standardized \u001b[0m Variable StreamingMovies\n",
            "No                     2747\n",
            "Yes                    2698\n",
            "No internet service    1505\n",
            "Name: StreamingMovies, dtype: int64\n",
            "\n",
            "Unique Values Count \u001b[1mBefore Standardized \u001b[0m Variable Contract\n",
            "Month-to-month    3823\n",
            "Two year          1670\n",
            "One year          1457\n",
            "Name: Contract, dtype: int64\n",
            "\n",
            "Unique Values Count \u001b[1mBefore Standardized \u001b[0m Variable PaperlessBilling\n",
            "Yes    4114\n",
            "No     2836\n",
            "Name: PaperlessBilling, dtype: int64\n",
            "\n",
            "Unique Values Count \u001b[1mBefore Standardized \u001b[0m Variable PaymentMethod\n",
            "Electronic check             2337\n",
            "Mailed check                 1594\n",
            "Bank transfer (automatic)    1519\n",
            "Credit card (automatic)      1500\n",
            "Name: PaymentMethod, dtype: int64\n",
            "\n",
            "Unique Values Count \u001b[1mBefore Standardized \u001b[0m Variable Churn\n",
            "No       5114\n",
            "Yes      1827\n",
            "Churn       9\n",
            "Name: Churn, dtype: int64\n"
          ]
        }
      ],
      "source": [
        "# jawaban sesuai console\n",
        "for col_name in list(['gender','SeniorCitizen','Partner','Dependents','PhoneService','MultipleLines','InternetService','OnlineSecurity','OnlineBackup','DeviceProtection','TechSupport','StreamingTV','StreamingMovies','Contract','PaperlessBilling','PaymentMethod','Churn']):\n",
        "\tprint('\\nUnique Values Count \\033[1m' + 'Before Standardized \\033[0m Variable',col_name)\n",
        "\tprint(df_load[col_name].value_counts())"
      ]
    },
    {
      "cell_type": "code",
      "execution_count": 29,
      "id": "f6b4ab36-80fa-4a82-bd97-545946d521fa",
      "metadata": {
        "colab": {
          "base_uri": "https://localhost:8080/"
        },
        "id": "f6b4ab36-80fa-4a82-bd97-545946d521fa",
        "outputId": "952afd94-1015-417e-f928-e08c93c567f5"
      },
      "outputs": [
        {
          "output_type": "stream",
          "name": "stdout",
          "text": [
            "\n",
            "Unique Values Count \u001b[1mBefore Standardized \u001b[0m Variable Churn\n",
            "No       5114\n",
            "Yes      1827\n",
            "Churn       9\n",
            "Name: Churn, dtype: int64\n",
            "\n",
            "Unique Values Count \u001b[1mBefore Standardized \u001b[0m Variable Contract\n",
            "Month-to-month    3823\n",
            "Two year          1670\n",
            "One year          1457\n",
            "Name: Contract, dtype: int64\n",
            "\n",
            "Unique Values Count \u001b[1mBefore Standardized \u001b[0m Variable Dependents\n",
            "No     4870\n",
            "Yes    2060\n",
            "Iya      20\n",
            "Name: Dependents, dtype: int64\n",
            "\n",
            "Unique Values Count \u001b[1mBefore Standardized \u001b[0m Variable DeviceProtection\n",
            "No                     3054\n",
            "Yes                    2391\n",
            "No internet service    1505\n",
            "Name: DeviceProtection, dtype: int64\n",
            "\n",
            "Unique Values Count \u001b[1mBefore Standardized \u001b[0m Variable InternetService\n",
            "Fiber optic    3057\n",
            "DSL            2388\n",
            "No             1505\n",
            "Name: InternetService, dtype: int64\n",
            "\n",
            "Unique Values Count \u001b[1mBefore Standardized \u001b[0m Variable MultipleLines\n",
            "No                  3346\n",
            "Yes                 2935\n",
            "No phone service     669\n",
            "Name: MultipleLines, dtype: int64\n",
            "\n",
            "Unique Values Count \u001b[1mBefore Standardized \u001b[0m Variable OnlineBackup\n",
            "No                     3045\n",
            "Yes                    2400\n",
            "No internet service    1505\n",
            "Name: OnlineBackup, dtype: int64\n",
            "\n",
            "Unique Values Count \u001b[1mBefore Standardized \u001b[0m Variable OnlineSecurity\n",
            "No                     3454\n",
            "Yes                    1991\n",
            "No internet service    1505\n",
            "Name: OnlineSecurity, dtype: int64\n",
            "\n",
            "Unique Values Count \u001b[1mBefore Standardized \u001b[0m Variable PaperlessBilling\n",
            "Yes    4114\n",
            "No     2836\n",
            "Name: PaperlessBilling, dtype: int64\n",
            "\n",
            "Unique Values Count \u001b[1mBefore Standardized \u001b[0m Variable Partner\n",
            "No     3591\n",
            "Yes    3359\n",
            "Name: Partner, dtype: int64\n",
            "\n",
            "Unique Values Count \u001b[1mBefore Standardized \u001b[0m Variable PaymentMethod\n",
            "Electronic check             2337\n",
            "Mailed check                 1594\n",
            "Bank transfer (automatic)    1519\n",
            "Credit card (automatic)      1500\n",
            "Name: PaymentMethod, dtype: int64\n",
            "\n",
            "Unique Values Count \u001b[1mBefore Standardized \u001b[0m Variable PhoneService\n",
            "Yes    6281\n",
            "No      669\n",
            "Name: PhoneService, dtype: int64\n",
            "\n",
            "Unique Values Count \u001b[1mBefore Standardized \u001b[0m Variable SeniorCitizen\n",
            "0    5822\n",
            "1    1128\n",
            "Name: SeniorCitizen, dtype: int64\n",
            "\n",
            "Unique Values Count \u001b[1mBefore Standardized \u001b[0m Variable StreamingMovies\n",
            "No                     2747\n",
            "Yes                    2698\n",
            "No internet service    1505\n",
            "Name: StreamingMovies, dtype: int64\n",
            "\n",
            "Unique Values Count \u001b[1mBefore Standardized \u001b[0m Variable StreamingTV\n",
            "No                     2774\n",
            "Yes                    2671\n",
            "No internet service    1505\n",
            "Name: StreamingTV, dtype: int64\n",
            "\n",
            "Unique Values Count \u001b[1mBefore Standardized \u001b[0m Variable TechSupport\n",
            "No                     3431\n",
            "Yes                    2014\n",
            "No internet service    1505\n",
            "Name: TechSupport, dtype: int64\n",
            "\n",
            "Unique Values Count \u001b[1mBefore Standardized \u001b[0m Variable gender\n",
            "Male         3499\n",
            "Female       3431\n",
            "Wanita         14\n",
            "Laki-Laki       6\n",
            "Name: gender, dtype: int64\n",
            "\n",
            "Unique Values Count \u001b[1mBefore Standardized \u001b[0m Variable Churn\n",
            "No       5114\n",
            "Yes      1827\n",
            "Churn       9\n",
            "Name: Churn, dtype: int64\n",
            "\n",
            "Unique Values Count \u001b[1mBefore Standardized \u001b[0m Variable Contract\n",
            "Month-to-month    3823\n",
            "Two year          1670\n",
            "One year          1457\n",
            "Name: Contract, dtype: int64\n",
            "\n",
            "Unique Values Count \u001b[1mBefore Standardized \u001b[0m Variable Dependents\n",
            "No     4870\n",
            "Yes    2060\n",
            "Iya      20\n",
            "Name: Dependents, dtype: int64\n",
            "\n",
            "Unique Values Count \u001b[1mBefore Standardized \u001b[0m Variable DeviceProtection\n",
            "No                     3054\n",
            "Yes                    2391\n",
            "No internet service    1505\n",
            "Name: DeviceProtection, dtype: int64\n",
            "\n",
            "Unique Values Count \u001b[1mBefore Standardized \u001b[0m Variable InternetService\n",
            "Fiber optic    3057\n",
            "DSL            2388\n",
            "No             1505\n",
            "Name: InternetService, dtype: int64\n",
            "\n",
            "Unique Values Count \u001b[1mBefore Standardized \u001b[0m Variable MultipleLines\n",
            "No                  3346\n",
            "Yes                 2935\n",
            "No phone service     669\n",
            "Name: MultipleLines, dtype: int64\n",
            "\n",
            "Unique Values Count \u001b[1mBefore Standardized \u001b[0m Variable OnlineBackup\n",
            "No                     3045\n",
            "Yes                    2400\n",
            "No internet service    1505\n",
            "Name: OnlineBackup, dtype: int64\n",
            "\n",
            "Unique Values Count \u001b[1mBefore Standardized \u001b[0m Variable OnlineSecurity\n",
            "No                     3454\n",
            "Yes                    1991\n",
            "No internet service    1505\n",
            "Name: OnlineSecurity, dtype: int64\n",
            "\n",
            "Unique Values Count \u001b[1mBefore Standardized \u001b[0m Variable PaperlessBilling\n",
            "Yes    4114\n",
            "No     2836\n",
            "Name: PaperlessBilling, dtype: int64\n",
            "\n",
            "Unique Values Count \u001b[1mBefore Standardized \u001b[0m Variable Partner\n",
            "No     3591\n",
            "Yes    3359\n",
            "Name: Partner, dtype: int64\n",
            "\n",
            "Unique Values Count \u001b[1mBefore Standardized \u001b[0m Variable PaymentMethod\n",
            "Electronic check             2337\n",
            "Mailed check                 1594\n",
            "Bank transfer (automatic)    1519\n",
            "Credit card (automatic)      1500\n",
            "Name: PaymentMethod, dtype: int64\n",
            "\n",
            "Unique Values Count \u001b[1mBefore Standardized \u001b[0m Variable PhoneService\n",
            "Yes    6281\n",
            "No      669\n",
            "Name: PhoneService, dtype: int64\n",
            "\n",
            "Unique Values Count \u001b[1mBefore Standardized \u001b[0m Variable SeniorCitizen\n",
            "0    5822\n",
            "1    1128\n",
            "Name: SeniorCitizen, dtype: int64\n",
            "\n",
            "Unique Values Count \u001b[1mBefore Standardized \u001b[0m Variable StreamingMovies\n",
            "No                     2747\n",
            "Yes                    2698\n",
            "No internet service    1505\n",
            "Name: StreamingMovies, dtype: int64\n",
            "\n",
            "Unique Values Count \u001b[1mBefore Standardized \u001b[0m Variable StreamingTV\n",
            "No                     2774\n",
            "Yes                    2671\n",
            "No internet service    1505\n",
            "Name: StreamingTV, dtype: int64\n",
            "\n",
            "Unique Values Count \u001b[1mBefore Standardized \u001b[0m Variable TechSupport\n",
            "No                     3431\n",
            "Yes                    2014\n",
            "No internet service    1505\n",
            "Name: TechSupport, dtype: int64\n",
            "\n",
            "Unique Values Count \u001b[1mBefore Standardized \u001b[0m Variable gender\n",
            "Male         3499\n",
            "Female       3431\n",
            "Wanita         14\n",
            "Laki-Laki       6\n",
            "Name: gender, dtype: int64\n"
          ]
        }
      ],
      "source": [
        "for col_name in df_load.columns.to_list():\n",
        "    if df_load[col_name].dtype.kind in 'O' and col_name != 'customerID':\n",
        "        print('\\nUnique Values Count \\033[1m' + 'Before Standardized \\033[0m Variable',col_name)\n",
        "        print(df_load[col_name].value_counts())\n",
        "        \n",
        "# update: bisa juga langsung series tanpa diubah ke list\n",
        "for col_name in df_load.columns:\n",
        "    if df_load[col_name].dtype.kind in 'O' and col_name != 'customerID':\n",
        "        print('\\nUnique Values Count \\033[1m' + 'Before Standardized \\033[0m Variable',col_name)\n",
        "        print(df_load[col_name].value_counts())"
      ]
    },
    {
      "cell_type": "markdown",
      "id": "b10a906e-216a-45c4-bf33-46c2f245b486",
      "metadata": {
        "id": "b10a906e-216a-45c4-bf33-46c2f245b486"
      },
      "source": [
        "Setelah kita mengetahui, mana saja data yang tidak standard, kita selanjutnya mengisi data teersebut dengan nilai atau value standardnya. Misalnya pada data gender, kita mendapati record `male` dan `laki-laki`. Record ini merujuk pada satu entitas yang sama, tapi diakui berbeda. Karena `male` memiliki proporsi lebih banyak, mari kita anggap bahwa sebenarnya record yang benar adalah `male`. Begitu juga dengan record record lainnya."
      ]
    },
    {
      "cell_type": "code",
      "execution_count": 30,
      "id": "eb9a09d1-4bc9-4d97-ba49-be68615f8319",
      "metadata": {
        "colab": {
          "base_uri": "https://localhost:8080/"
        },
        "id": "eb9a09d1-4bc9-4d97-ba49-be68615f8319",
        "outputId": "41dbd64e-a03f-4878-b407-872bd4f615f6"
      },
      "outputs": [
        {
          "output_type": "stream",
          "name": "stdout",
          "text": [
            "\n",
            "Unique Values Count \u001b[1mAfter Standardized \u001b[0mVariable gender\n",
            "Male      3505\n",
            "Female    3445\n",
            "Name: gender, dtype: int64\n",
            "\n",
            "Unique Values Count \u001b[1mAfter Standardized \u001b[0mVariable Dependents\n",
            "No     4870\n",
            "Yes    2080\n",
            "Name: Dependents, dtype: int64\n",
            "\n",
            "Unique Values Count \u001b[1mAfter Standardized \u001b[0mVariable Churn\n",
            "No     5114\n",
            "Yes    1836\n",
            "Name: Churn, dtype: int64\n"
          ]
        }
      ],
      "source": [
        "df_load = df_load.replace(['Wanita','Laki-Laki','Churn','Iya'],['Female','Male','Yes','Yes'])\n",
        "\n",
        "for col_name in list(['gender','Dependents','Churn']):\n",
        "    print('\\nUnique Values Count \\033[1m' + 'After Standardized \\033[0mVariable',col_name)\n",
        "    print(df_load[col_name].value_counts())\n",
        "    \n",
        "# Notes: seperti sebelumnya, perintah list() dalam koding nyata tidak perlu dipakai karena data sudah dalam bentuk list."
      ]
    },
    {
      "cell_type": "markdown",
      "id": "90fb05ce-d94d-42e6-8262-db65b37cccc2",
      "metadata": {
        "id": "90fb05ce-d94d-42e6-8262-db65b37cccc2"
      },
      "source": [
        "**Materi Tambahan Dari Pertanyaan Peserta**\n",
        "\n",
        "1. Link referensi pandas\n",
        "\n",
        "link official [Pandas Official Reference](https://pandas.pydata.org/docs/reference/frame.html).\n",
        "\n",
        "Tanpa link official, Anda juga bisa mengeksplorasi object pandas data frame secara mandiri tanpa mengakses link apa pun. Untuk melihat atribut dan method yang ada di dalam pandas data frame, Anda dapat menggunakan fungsi `dir()`. Misal, anda menyimpan object data frame pada variable `df_load`. Maka untuk mengakses semua methodnya anda tinggal menulis perintah `dir(df_load)` lalu jalankan.\n",
        "\n",
        "Untuk kemudian membaca atau melihat dokumentasi sebuah method, misalnya method iloc, Anda cukup gunakan perintah `help()`, cukup menuliskan `help(df_load.iloc)`. Anda akan mendapatkan keterangan persis seperti di website pandas tersebut. Selamat belajar.\n",
        "\n",
        "2. Bagaimana Cara Mengganti Nama Kolom Dengan Karakter Tertentu Menjadi _?\n",
        "\n",
        "Misalkan Anda punya data frame dengan nama `no.Majalah`, `tanggal.Terbit`, `no.Editorial`.\n",
        "\n",
        "Hal pertama yang Anda perhatikan adalah pola-nya. Di sini, kita mau mengganti tanda `.` dengan tanda `_`. Kita juga mau mengganti nama kolomnya menjadi huruf kecil. Maka ada beberapa approach yang bisa dilakukan. Berikut dua diantaranya. (Perhatikan kodingan di bawah)"
      ]
    },
    {
      "cell_type": "code",
      "execution_count": 31,
      "id": "3a3b1273-f847-44dd-845d-85783b800f61",
      "metadata": {
        "colab": {
          "base_uri": "https://localhost:8080/",
          "height": 380
        },
        "id": "3a3b1273-f847-44dd-845d-85783b800f61",
        "outputId": "599d0f42-6272-453b-f562-65b0987b91a2"
      },
      "outputs": [
        {
          "output_type": "stream",
          "name": "stdout",
          "text": [
            "['no_majalah', 'tanggal_terbit', 'masa_berlaku']\n"
          ]
        },
        {
          "output_type": "execute_result",
          "data": {
            "text/plain": [
              "   no_majalah  tanggal_terbit  masa_berlaku\n",
              "0           0              24            12\n",
              "1           1              27             2\n",
              "2           2              29            12\n",
              "3           3              30             4\n",
              "4           4              21             6\n",
              "5           5              15             4\n",
              "6           6               5            14\n",
              "7           7               6            15\n",
              "8           8               3            19\n",
              "9           9              24            10"
            ],
            "text/html": [
              "\n",
              "  <div id=\"df-7d863c78-d206-41b9-9868-c8a8460d9b60\">\n",
              "    <div class=\"colab-df-container\">\n",
              "      <div>\n",
              "<style scoped>\n",
              "    .dataframe tbody tr th:only-of-type {\n",
              "        vertical-align: middle;\n",
              "    }\n",
              "\n",
              "    .dataframe tbody tr th {\n",
              "        vertical-align: top;\n",
              "    }\n",
              "\n",
              "    .dataframe thead th {\n",
              "        text-align: right;\n",
              "    }\n",
              "</style>\n",
              "<table border=\"1\" class=\"dataframe\">\n",
              "  <thead>\n",
              "    <tr style=\"text-align: right;\">\n",
              "      <th></th>\n",
              "      <th>no_majalah</th>\n",
              "      <th>tanggal_terbit</th>\n",
              "      <th>masa_berlaku</th>\n",
              "    </tr>\n",
              "  </thead>\n",
              "  <tbody>\n",
              "    <tr>\n",
              "      <th>0</th>\n",
              "      <td>0</td>\n",
              "      <td>24</td>\n",
              "      <td>12</td>\n",
              "    </tr>\n",
              "    <tr>\n",
              "      <th>1</th>\n",
              "      <td>1</td>\n",
              "      <td>27</td>\n",
              "      <td>2</td>\n",
              "    </tr>\n",
              "    <tr>\n",
              "      <th>2</th>\n",
              "      <td>2</td>\n",
              "      <td>29</td>\n",
              "      <td>12</td>\n",
              "    </tr>\n",
              "    <tr>\n",
              "      <th>3</th>\n",
              "      <td>3</td>\n",
              "      <td>30</td>\n",
              "      <td>4</td>\n",
              "    </tr>\n",
              "    <tr>\n",
              "      <th>4</th>\n",
              "      <td>4</td>\n",
              "      <td>21</td>\n",
              "      <td>6</td>\n",
              "    </tr>\n",
              "    <tr>\n",
              "      <th>5</th>\n",
              "      <td>5</td>\n",
              "      <td>15</td>\n",
              "      <td>4</td>\n",
              "    </tr>\n",
              "    <tr>\n",
              "      <th>6</th>\n",
              "      <td>6</td>\n",
              "      <td>5</td>\n",
              "      <td>14</td>\n",
              "    </tr>\n",
              "    <tr>\n",
              "      <th>7</th>\n",
              "      <td>7</td>\n",
              "      <td>6</td>\n",
              "      <td>15</td>\n",
              "    </tr>\n",
              "    <tr>\n",
              "      <th>8</th>\n",
              "      <td>8</td>\n",
              "      <td>3</td>\n",
              "      <td>19</td>\n",
              "    </tr>\n",
              "    <tr>\n",
              "      <th>9</th>\n",
              "      <td>9</td>\n",
              "      <td>24</td>\n",
              "      <td>10</td>\n",
              "    </tr>\n",
              "  </tbody>\n",
              "</table>\n",
              "</div>\n",
              "      <button class=\"colab-df-convert\" onclick=\"convertToInteractive('df-7d863c78-d206-41b9-9868-c8a8460d9b60')\"\n",
              "              title=\"Convert this dataframe to an interactive table.\"\n",
              "              style=\"display:none;\">\n",
              "        \n",
              "  <svg xmlns=\"http://www.w3.org/2000/svg\" height=\"24px\"viewBox=\"0 0 24 24\"\n",
              "       width=\"24px\">\n",
              "    <path d=\"M0 0h24v24H0V0z\" fill=\"none\"/>\n",
              "    <path d=\"M18.56 5.44l.94 2.06.94-2.06 2.06-.94-2.06-.94-.94-2.06-.94 2.06-2.06.94zm-11 1L8.5 8.5l.94-2.06 2.06-.94-2.06-.94L8.5 2.5l-.94 2.06-2.06.94zm10 10l.94 2.06.94-2.06 2.06-.94-2.06-.94-.94-2.06-.94 2.06-2.06.94z\"/><path d=\"M17.41 7.96l-1.37-1.37c-.4-.4-.92-.59-1.43-.59-.52 0-1.04.2-1.43.59L10.3 9.45l-7.72 7.72c-.78.78-.78 2.05 0 2.83L4 21.41c.39.39.9.59 1.41.59.51 0 1.02-.2 1.41-.59l7.78-7.78 2.81-2.81c.8-.78.8-2.07 0-2.86zM5.41 20L4 18.59l7.72-7.72 1.47 1.35L5.41 20z\"/>\n",
              "  </svg>\n",
              "      </button>\n",
              "      \n",
              "  <style>\n",
              "    .colab-df-container {\n",
              "      display:flex;\n",
              "      flex-wrap:wrap;\n",
              "      gap: 12px;\n",
              "    }\n",
              "\n",
              "    .colab-df-convert {\n",
              "      background-color: #E8F0FE;\n",
              "      border: none;\n",
              "      border-radius: 50%;\n",
              "      cursor: pointer;\n",
              "      display: none;\n",
              "      fill: #1967D2;\n",
              "      height: 32px;\n",
              "      padding: 0 0 0 0;\n",
              "      width: 32px;\n",
              "    }\n",
              "\n",
              "    .colab-df-convert:hover {\n",
              "      background-color: #E2EBFA;\n",
              "      box-shadow: 0px 1px 2px rgba(60, 64, 67, 0.3), 0px 1px 3px 1px rgba(60, 64, 67, 0.15);\n",
              "      fill: #174EA6;\n",
              "    }\n",
              "\n",
              "    [theme=dark] .colab-df-convert {\n",
              "      background-color: #3B4455;\n",
              "      fill: #D2E3FC;\n",
              "    }\n",
              "\n",
              "    [theme=dark] .colab-df-convert:hover {\n",
              "      background-color: #434B5C;\n",
              "      box-shadow: 0px 1px 3px 1px rgba(0, 0, 0, 0.15);\n",
              "      filter: drop-shadow(0px 1px 2px rgba(0, 0, 0, 0.3));\n",
              "      fill: #FFFFFF;\n",
              "    }\n",
              "  </style>\n",
              "\n",
              "      <script>\n",
              "        const buttonEl =\n",
              "          document.querySelector('#df-7d863c78-d206-41b9-9868-c8a8460d9b60 button.colab-df-convert');\n",
              "        buttonEl.style.display =\n",
              "          google.colab.kernel.accessAllowed ? 'block' : 'none';\n",
              "\n",
              "        async function convertToInteractive(key) {\n",
              "          const element = document.querySelector('#df-7d863c78-d206-41b9-9868-c8a8460d9b60');\n",
              "          const dataTable =\n",
              "            await google.colab.kernel.invokeFunction('convertToInteractive',\n",
              "                                                     [key], {});\n",
              "          if (!dataTable) return;\n",
              "\n",
              "          const docLinkHtml = 'Like what you see? Visit the ' +\n",
              "            '<a target=\"_blank\" href=https://colab.research.google.com/notebooks/data_table.ipynb>data table notebook</a>'\n",
              "            + ' to learn more about interactive tables.';\n",
              "          element.innerHTML = '';\n",
              "          dataTable['output_type'] = 'display_data';\n",
              "          await google.colab.output.renderOutput(dataTable, element);\n",
              "          const docLink = document.createElement('div');\n",
              "          docLink.innerHTML = docLinkHtml;\n",
              "          element.appendChild(docLink);\n",
              "        }\n",
              "      </script>\n",
              "    </div>\n",
              "  </div>\n",
              "  "
            ]
          },
          "metadata": {},
          "execution_count": 31
        }
      ],
      "source": [
        "# approach 1, manual. TIDAK RECOMMENDED\n",
        "# buat dataframe baru dengan nama df_contoh\n",
        "df_contoh = pd.DataFrame({\"no.Majalah\": [a for a in range(10)],\n",
        "                          \"tanggal.Terbit\": [24, 27, 29, 30, 21, 15, 5, 6, 3, 24],\n",
        "                          \"masa.Berlaku\": [12, 2, 12, 4, 6, 4, 14, 15, 19, 10]\n",
        "                         })\n",
        "old_col = df_contoh.columns.to_list()\n",
        "for i in range(len(old_col)):\n",
        "    old_col[i] = old_col[i].replace(\".\", \"_\").lower()\n",
        "print(old_col)\n",
        "# masukkan ke dalam dataframe\n",
        "df_contoh.columns = old_col\n",
        "df_contoh"
      ]
    },
    {
      "cell_type": "code",
      "execution_count": 34,
      "id": "02960c01-ef1f-4c87-89b0-a2b7c0c6fb7e",
      "metadata": {
        "colab": {
          "base_uri": "https://localhost:8080/",
          "height": 571
        },
        "id": "02960c01-ef1f-4c87-89b0-a2b7c0c6fb7e",
        "outputId": "9f0a676d-de67-40f6-8669-4c5ca245c1f4"
      },
      "outputs": [
        {
          "output_type": "stream",
          "name": "stdout",
          "text": [
            "   no.Majalah  tanggal.Terbit  masa.Berlaku\n",
            "0           0              24            12\n",
            "1           1              27             2\n",
            "2           2              29            12\n",
            "3           3              30             4\n",
            "4           4              21             6\n",
            "5           5              15             4\n",
            "6           6               5            14\n",
            "7           7               6            15\n",
            "8           8               3            19\n",
            "9           9              24            10\n",
            "['no_majalah', 'tanggal_terbit', 'masa_berlaku']\n"
          ]
        },
        {
          "output_type": "execute_result",
          "data": {
            "text/plain": [
              "   no_majalah  tanggal_terbit  masa_berlaku\n",
              "0           0              24            12\n",
              "1           1              27             2\n",
              "2           2              29            12\n",
              "3           3              30             4\n",
              "4           4              21             6\n",
              "5           5              15             4\n",
              "6           6               5            14\n",
              "7           7               6            15\n",
              "8           8               3            19\n",
              "9           9              24            10"
            ],
            "text/html": [
              "\n",
              "  <div id=\"df-e06df479-e80d-4a8d-95d5-17665a87af15\">\n",
              "    <div class=\"colab-df-container\">\n",
              "      <div>\n",
              "<style scoped>\n",
              "    .dataframe tbody tr th:only-of-type {\n",
              "        vertical-align: middle;\n",
              "    }\n",
              "\n",
              "    .dataframe tbody tr th {\n",
              "        vertical-align: top;\n",
              "    }\n",
              "\n",
              "    .dataframe thead th {\n",
              "        text-align: right;\n",
              "    }\n",
              "</style>\n",
              "<table border=\"1\" class=\"dataframe\">\n",
              "  <thead>\n",
              "    <tr style=\"text-align: right;\">\n",
              "      <th></th>\n",
              "      <th>no_majalah</th>\n",
              "      <th>tanggal_terbit</th>\n",
              "      <th>masa_berlaku</th>\n",
              "    </tr>\n",
              "  </thead>\n",
              "  <tbody>\n",
              "    <tr>\n",
              "      <th>0</th>\n",
              "      <td>0</td>\n",
              "      <td>24</td>\n",
              "      <td>12</td>\n",
              "    </tr>\n",
              "    <tr>\n",
              "      <th>1</th>\n",
              "      <td>1</td>\n",
              "      <td>27</td>\n",
              "      <td>2</td>\n",
              "    </tr>\n",
              "    <tr>\n",
              "      <th>2</th>\n",
              "      <td>2</td>\n",
              "      <td>29</td>\n",
              "      <td>12</td>\n",
              "    </tr>\n",
              "    <tr>\n",
              "      <th>3</th>\n",
              "      <td>3</td>\n",
              "      <td>30</td>\n",
              "      <td>4</td>\n",
              "    </tr>\n",
              "    <tr>\n",
              "      <th>4</th>\n",
              "      <td>4</td>\n",
              "      <td>21</td>\n",
              "      <td>6</td>\n",
              "    </tr>\n",
              "    <tr>\n",
              "      <th>5</th>\n",
              "      <td>5</td>\n",
              "      <td>15</td>\n",
              "      <td>4</td>\n",
              "    </tr>\n",
              "    <tr>\n",
              "      <th>6</th>\n",
              "      <td>6</td>\n",
              "      <td>5</td>\n",
              "      <td>14</td>\n",
              "    </tr>\n",
              "    <tr>\n",
              "      <th>7</th>\n",
              "      <td>7</td>\n",
              "      <td>6</td>\n",
              "      <td>15</td>\n",
              "    </tr>\n",
              "    <tr>\n",
              "      <th>8</th>\n",
              "      <td>8</td>\n",
              "      <td>3</td>\n",
              "      <td>19</td>\n",
              "    </tr>\n",
              "    <tr>\n",
              "      <th>9</th>\n",
              "      <td>9</td>\n",
              "      <td>24</td>\n",
              "      <td>10</td>\n",
              "    </tr>\n",
              "  </tbody>\n",
              "</table>\n",
              "</div>\n",
              "      <button class=\"colab-df-convert\" onclick=\"convertToInteractive('df-e06df479-e80d-4a8d-95d5-17665a87af15')\"\n",
              "              title=\"Convert this dataframe to an interactive table.\"\n",
              "              style=\"display:none;\">\n",
              "        \n",
              "  <svg xmlns=\"http://www.w3.org/2000/svg\" height=\"24px\"viewBox=\"0 0 24 24\"\n",
              "       width=\"24px\">\n",
              "    <path d=\"M0 0h24v24H0V0z\" fill=\"none\"/>\n",
              "    <path d=\"M18.56 5.44l.94 2.06.94-2.06 2.06-.94-2.06-.94-.94-2.06-.94 2.06-2.06.94zm-11 1L8.5 8.5l.94-2.06 2.06-.94-2.06-.94L8.5 2.5l-.94 2.06-2.06.94zm10 10l.94 2.06.94-2.06 2.06-.94-2.06-.94-.94-2.06-.94 2.06-2.06.94z\"/><path d=\"M17.41 7.96l-1.37-1.37c-.4-.4-.92-.59-1.43-.59-.52 0-1.04.2-1.43.59L10.3 9.45l-7.72 7.72c-.78.78-.78 2.05 0 2.83L4 21.41c.39.39.9.59 1.41.59.51 0 1.02-.2 1.41-.59l7.78-7.78 2.81-2.81c.8-.78.8-2.07 0-2.86zM5.41 20L4 18.59l7.72-7.72 1.47 1.35L5.41 20z\"/>\n",
              "  </svg>\n",
              "      </button>\n",
              "      \n",
              "  <style>\n",
              "    .colab-df-container {\n",
              "      display:flex;\n",
              "      flex-wrap:wrap;\n",
              "      gap: 12px;\n",
              "    }\n",
              "\n",
              "    .colab-df-convert {\n",
              "      background-color: #E8F0FE;\n",
              "      border: none;\n",
              "      border-radius: 50%;\n",
              "      cursor: pointer;\n",
              "      display: none;\n",
              "      fill: #1967D2;\n",
              "      height: 32px;\n",
              "      padding: 0 0 0 0;\n",
              "      width: 32px;\n",
              "    }\n",
              "\n",
              "    .colab-df-convert:hover {\n",
              "      background-color: #E2EBFA;\n",
              "      box-shadow: 0px 1px 2px rgba(60, 64, 67, 0.3), 0px 1px 3px 1px rgba(60, 64, 67, 0.15);\n",
              "      fill: #174EA6;\n",
              "    }\n",
              "\n",
              "    [theme=dark] .colab-df-convert {\n",
              "      background-color: #3B4455;\n",
              "      fill: #D2E3FC;\n",
              "    }\n",
              "\n",
              "    [theme=dark] .colab-df-convert:hover {\n",
              "      background-color: #434B5C;\n",
              "      box-shadow: 0px 1px 3px 1px rgba(0, 0, 0, 0.15);\n",
              "      filter: drop-shadow(0px 1px 2px rgba(0, 0, 0, 0.3));\n",
              "      fill: #FFFFFF;\n",
              "    }\n",
              "  </style>\n",
              "\n",
              "      <script>\n",
              "        const buttonEl =\n",
              "          document.querySelector('#df-e06df479-e80d-4a8d-95d5-17665a87af15 button.colab-df-convert');\n",
              "        buttonEl.style.display =\n",
              "          google.colab.kernel.accessAllowed ? 'block' : 'none';\n",
              "\n",
              "        async function convertToInteractive(key) {\n",
              "          const element = document.querySelector('#df-e06df479-e80d-4a8d-95d5-17665a87af15');\n",
              "          const dataTable =\n",
              "            await google.colab.kernel.invokeFunction('convertToInteractive',\n",
              "                                                     [key], {});\n",
              "          if (!dataTable) return;\n",
              "\n",
              "          const docLinkHtml = 'Like what you see? Visit the ' +\n",
              "            '<a target=\"_blank\" href=https://colab.research.google.com/notebooks/data_table.ipynb>data table notebook</a>'\n",
              "            + ' to learn more about interactive tables.';\n",
              "          element.innerHTML = '';\n",
              "          dataTable['output_type'] = 'display_data';\n",
              "          await google.colab.output.renderOutput(dataTable, element);\n",
              "          const docLink = document.createElement('div');\n",
              "          docLink.innerHTML = docLinkHtml;\n",
              "          element.appendChild(docLink);\n",
              "        }\n",
              "      </script>\n",
              "    </div>\n",
              "  </div>\n",
              "  "
            ]
          },
          "metadata": {},
          "execution_count": 34
        }
      ],
      "source": [
        "# approach 2, dengan mengambil nama kolom dan list generator\n",
        "# buat dataframe baru dengan nama df_contoh\n",
        "df_contoh = pd.DataFrame({\"no.Majalah\": [a for a in range(10)],\n",
        "                          \"tanggal.Terbit\": [24, 27, 29, 30, 21, 15, 5, 6, 3, 24],\n",
        "                          \"masa.Berlaku\": [12, 2, 12, 4, 6, 4, 14, 15, 19, 10]\n",
        "                         })\n",
        "print(df_contoh)\n",
        "new_name = [a.replace(\".\", \"_\").lower() for a in df_contoh.columns]\n",
        "print(new_name)\n",
        "# masukkan ke dalam dataframe\n",
        "df_contoh.columns = new_name\n",
        "df_contoh"
      ]
    },
    {
      "cell_type": "code",
      "execution_count": 33,
      "id": "780281de-0651-4451-8a65-1c5876e28996",
      "metadata": {
        "colab": {
          "base_uri": "https://localhost:8080/",
          "height": 554
        },
        "id": "780281de-0651-4451-8a65-1c5876e28996",
        "outputId": "da9a2e69-9219-4cda-cad2-3efb438736da"
      },
      "outputs": [
        {
          "output_type": "stream",
          "name": "stdout",
          "text": [
            "   no.Majalah  tanggal.Terbit  masa.Berlaku\n",
            "0           0              24            12\n",
            "1           1              27             2\n",
            "2           2              29            12\n",
            "3           3              30             4\n",
            "4           4              21             6\n",
            "5           5              15             4\n",
            "6           6               5            14\n",
            "7           7               6            15\n",
            "8           8               3            19\n",
            "9           9              24            10\n"
          ]
        },
        {
          "output_type": "execute_result",
          "data": {
            "text/plain": [
              "   no_majalah  tanggal_terbit  masa_berlaku\n",
              "0           0              24            12\n",
              "1           1              27             2\n",
              "2           2              29            12\n",
              "3           3              30             4\n",
              "4           4              21             6\n",
              "5           5              15             4\n",
              "6           6               5            14\n",
              "7           7               6            15\n",
              "8           8               3            19\n",
              "9           9              24            10"
            ],
            "text/html": [
              "\n",
              "  <div id=\"df-530b3659-5845-428b-bbf4-0cf254ba21e0\">\n",
              "    <div class=\"colab-df-container\">\n",
              "      <div>\n",
              "<style scoped>\n",
              "    .dataframe tbody tr th:only-of-type {\n",
              "        vertical-align: middle;\n",
              "    }\n",
              "\n",
              "    .dataframe tbody tr th {\n",
              "        vertical-align: top;\n",
              "    }\n",
              "\n",
              "    .dataframe thead th {\n",
              "        text-align: right;\n",
              "    }\n",
              "</style>\n",
              "<table border=\"1\" class=\"dataframe\">\n",
              "  <thead>\n",
              "    <tr style=\"text-align: right;\">\n",
              "      <th></th>\n",
              "      <th>no_majalah</th>\n",
              "      <th>tanggal_terbit</th>\n",
              "      <th>masa_berlaku</th>\n",
              "    </tr>\n",
              "  </thead>\n",
              "  <tbody>\n",
              "    <tr>\n",
              "      <th>0</th>\n",
              "      <td>0</td>\n",
              "      <td>24</td>\n",
              "      <td>12</td>\n",
              "    </tr>\n",
              "    <tr>\n",
              "      <th>1</th>\n",
              "      <td>1</td>\n",
              "      <td>27</td>\n",
              "      <td>2</td>\n",
              "    </tr>\n",
              "    <tr>\n",
              "      <th>2</th>\n",
              "      <td>2</td>\n",
              "      <td>29</td>\n",
              "      <td>12</td>\n",
              "    </tr>\n",
              "    <tr>\n",
              "      <th>3</th>\n",
              "      <td>3</td>\n",
              "      <td>30</td>\n",
              "      <td>4</td>\n",
              "    </tr>\n",
              "    <tr>\n",
              "      <th>4</th>\n",
              "      <td>4</td>\n",
              "      <td>21</td>\n",
              "      <td>6</td>\n",
              "    </tr>\n",
              "    <tr>\n",
              "      <th>5</th>\n",
              "      <td>5</td>\n",
              "      <td>15</td>\n",
              "      <td>4</td>\n",
              "    </tr>\n",
              "    <tr>\n",
              "      <th>6</th>\n",
              "      <td>6</td>\n",
              "      <td>5</td>\n",
              "      <td>14</td>\n",
              "    </tr>\n",
              "    <tr>\n",
              "      <th>7</th>\n",
              "      <td>7</td>\n",
              "      <td>6</td>\n",
              "      <td>15</td>\n",
              "    </tr>\n",
              "    <tr>\n",
              "      <th>8</th>\n",
              "      <td>8</td>\n",
              "      <td>3</td>\n",
              "      <td>19</td>\n",
              "    </tr>\n",
              "    <tr>\n",
              "      <th>9</th>\n",
              "      <td>9</td>\n",
              "      <td>24</td>\n",
              "      <td>10</td>\n",
              "    </tr>\n",
              "  </tbody>\n",
              "</table>\n",
              "</div>\n",
              "      <button class=\"colab-df-convert\" onclick=\"convertToInteractive('df-530b3659-5845-428b-bbf4-0cf254ba21e0')\"\n",
              "              title=\"Convert this dataframe to an interactive table.\"\n",
              "              style=\"display:none;\">\n",
              "        \n",
              "  <svg xmlns=\"http://www.w3.org/2000/svg\" height=\"24px\"viewBox=\"0 0 24 24\"\n",
              "       width=\"24px\">\n",
              "    <path d=\"M0 0h24v24H0V0z\" fill=\"none\"/>\n",
              "    <path d=\"M18.56 5.44l.94 2.06.94-2.06 2.06-.94-2.06-.94-.94-2.06-.94 2.06-2.06.94zm-11 1L8.5 8.5l.94-2.06 2.06-.94-2.06-.94L8.5 2.5l-.94 2.06-2.06.94zm10 10l.94 2.06.94-2.06 2.06-.94-2.06-.94-.94-2.06-.94 2.06-2.06.94z\"/><path d=\"M17.41 7.96l-1.37-1.37c-.4-.4-.92-.59-1.43-.59-.52 0-1.04.2-1.43.59L10.3 9.45l-7.72 7.72c-.78.78-.78 2.05 0 2.83L4 21.41c.39.39.9.59 1.41.59.51 0 1.02-.2 1.41-.59l7.78-7.78 2.81-2.81c.8-.78.8-2.07 0-2.86zM5.41 20L4 18.59l7.72-7.72 1.47 1.35L5.41 20z\"/>\n",
              "  </svg>\n",
              "      </button>\n",
              "      \n",
              "  <style>\n",
              "    .colab-df-container {\n",
              "      display:flex;\n",
              "      flex-wrap:wrap;\n",
              "      gap: 12px;\n",
              "    }\n",
              "\n",
              "    .colab-df-convert {\n",
              "      background-color: #E8F0FE;\n",
              "      border: none;\n",
              "      border-radius: 50%;\n",
              "      cursor: pointer;\n",
              "      display: none;\n",
              "      fill: #1967D2;\n",
              "      height: 32px;\n",
              "      padding: 0 0 0 0;\n",
              "      width: 32px;\n",
              "    }\n",
              "\n",
              "    .colab-df-convert:hover {\n",
              "      background-color: #E2EBFA;\n",
              "      box-shadow: 0px 1px 2px rgba(60, 64, 67, 0.3), 0px 1px 3px 1px rgba(60, 64, 67, 0.15);\n",
              "      fill: #174EA6;\n",
              "    }\n",
              "\n",
              "    [theme=dark] .colab-df-convert {\n",
              "      background-color: #3B4455;\n",
              "      fill: #D2E3FC;\n",
              "    }\n",
              "\n",
              "    [theme=dark] .colab-df-convert:hover {\n",
              "      background-color: #434B5C;\n",
              "      box-shadow: 0px 1px 3px 1px rgba(0, 0, 0, 0.15);\n",
              "      filter: drop-shadow(0px 1px 2px rgba(0, 0, 0, 0.3));\n",
              "      fill: #FFFFFF;\n",
              "    }\n",
              "  </style>\n",
              "\n",
              "      <script>\n",
              "        const buttonEl =\n",
              "          document.querySelector('#df-530b3659-5845-428b-bbf4-0cf254ba21e0 button.colab-df-convert');\n",
              "        buttonEl.style.display =\n",
              "          google.colab.kernel.accessAllowed ? 'block' : 'none';\n",
              "\n",
              "        async function convertToInteractive(key) {\n",
              "          const element = document.querySelector('#df-530b3659-5845-428b-bbf4-0cf254ba21e0');\n",
              "          const dataTable =\n",
              "            await google.colab.kernel.invokeFunction('convertToInteractive',\n",
              "                                                     [key], {});\n",
              "          if (!dataTable) return;\n",
              "\n",
              "          const docLinkHtml = 'Like what you see? Visit the ' +\n",
              "            '<a target=\"_blank\" href=https://colab.research.google.com/notebooks/data_table.ipynb>data table notebook</a>'\n",
              "            + ' to learn more about interactive tables.';\n",
              "          element.innerHTML = '';\n",
              "          dataTable['output_type'] = 'display_data';\n",
              "          await google.colab.output.renderOutput(dataTable, element);\n",
              "          const docLink = document.createElement('div');\n",
              "          docLink.innerHTML = docLinkHtml;\n",
              "          element.appendChild(docLink);\n",
              "        }\n",
              "      </script>\n",
              "    </div>\n",
              "  </div>\n",
              "  "
            ]
          },
          "metadata": {},
          "execution_count": 33
        }
      ],
      "source": [
        "# approach 3, langsung ubah aja dari seriesnya\n",
        "df_contoh = pd.DataFrame({\"no.Majalah\": [a for a in range(10)],\n",
        "                          \"tanggal.Terbit\": [24, 27, 29, 30, 21, 15, 5, 6, 3, 24],\n",
        "                          \"masa.Berlaku\": [12, 2, 12, 4, 6, 4, 14, 15, 19, 10]\n",
        "                         })\n",
        "print(df_contoh)\n",
        "df_contoh.columns = pd.Series(df_contoh.columns).str.replace(\".\", \"_\", regex=False).str.lower()\n",
        "df_contoh\n"
      ]
    },
    {
      "cell_type": "code",
      "execution_count": 32,
      "id": "80227ae9-fb4a-4717-a034-a1fca77aa57c",
      "metadata": {
        "id": "80227ae9-fb4a-4717-a034-a1fca77aa57c"
      },
      "outputs": [],
      "source": [
        "# approach 4\n",
        "### YOU WRITE IT ###"
      ]
    },
    {
      "cell_type": "markdown",
      "id": "dcf1b260-6990-482c-8b13-71a48c3a4a24",
      "metadata": {
        "id": "dcf1b260-6990-482c-8b13-71a48c3a4a24"
      },
      "source": [
        "~    \n",
        "    \n",
        "Tips: Ada banyak jalan menuju Roma. Jangan terpaku pada satu jenis approach. Cobalah untuk berpikir logis,\n",
        "jangan ragu buat coba-coba. Semoga berhasil.\n",
        "\n",
        "~"
      ]
    }
  ],
  "metadata": {
    "kernelspec": {
      "display_name": "Python 3 (ipykernel)",
      "language": "python",
      "name": "python3"
    },
    "language_info": {
      "codemirror_mode": {
        "name": "ipython",
        "version": 3
      },
      "file_extension": ".py",
      "mimetype": "text/x-python",
      "name": "python",
      "nbconvert_exporter": "python",
      "pygments_lexer": "ipython3",
      "version": "3.10.8"
    },
    "colab": {
      "provenance": [],
      "include_colab_link": true
    }
  },
  "nbformat": 4,
  "nbformat_minor": 5
}