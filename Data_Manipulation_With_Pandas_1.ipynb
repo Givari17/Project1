{
  "nbformat": 4,
  "nbformat_minor": 0,
  "metadata": {
    "colab": {
      "private_outputs": true,
      "provenance": [],
      "authorship_tag": "ABX9TyMleBNIEjwJjwsQL8BAatCX",
      "include_colab_link": true
    },
    "kernelspec": {
      "name": "python3",
      "display_name": "Python 3"
    },
    "language_info": {
      "name": "python"
    }
  },
  "cells": [
    {
      "cell_type": "markdown",
      "metadata": {
        "id": "view-in-github",
        "colab_type": "text"
      },
      "source": [
        "<a href=\"https://colab.research.google.com/github/Givari17/Project1/blob/main/Data_Manipulation_With_Pandas_1.ipynb\" target=\"_parent\"><img src=\"https://colab.research.google.com/assets/colab-badge.svg\" alt=\"Open In Colab\"/></a>"
      ]
    },
    {
      "cell_type": "code",
      "execution_count": null,
      "metadata": {
        "id": "HqR3YulXpTCI"
      },
      "outputs": [],
      "source": [
        "import pandas as pd\n",
        "\n",
        "# 1. Baca dataset\n",
        "print(\"[1] BACA DATASET\")\n",
        "df = pd.read_csv(\"https://dqlab-dataset.s3-ap-southeast-1.amazonaws.com/retail_raw_test.csv\", low_memory=False)\n",
        "print(\"    Dataset:\\n\", df.head())\n",
        "print(\"    Info:\\n\", df.info())\n"
      ]
    },
    {
      "cell_type": "code",
      "source": [
        "# 2. Ubah tipe data\n",
        "print(\"\\n[2] UBAH TIPE DATA\")\n",
        "df[\"customer_id\"] = df[\"customer_id\"].apply(lambda x: x.split(\"'\")[1]).astype(\"int64\")\n",
        "df[\"quantity\"] = df[\"quantity\"].apply(lambda x: x.split(\"'\")[1]).astype(\"int64\")\n",
        "df[\"item_price\"] = df[\"item_price\"].apply(lambda x: x.split(\"'\")[1]).astype(\"int64\")\n",
        "print(\"    Tipe data:\\n\", df.dtypes)"
      ],
      "metadata": {
        "id": "ZUMD-Ni8pkDt"
      },
      "execution_count": null,
      "outputs": []
    },
    {
      "cell_type": "code",
      "source": [
        "# 3. Transform \"product_value\" supaya bentuknya seragam dengan format \"PXXXX\", assign ke kolom baru \"product_id\", dan drop kolom \"product_value\", jika terdapat nan gantilah dengan \"unknown\"\n",
        "print(\"\\n[3] TRANSFORM product_value MENJADI product_id\")\n",
        "# Buat fungsi\n",
        "import math\n",
        "def impute_product_value(val):\n",
        "    if math.isnan(val):\n",
        "        return \"unknown\"\n",
        "    else:\n",
        "        return 'P' + '{:0>4}'.format(str(val).split('.')[0])\n",
        "# Buat kolom \"product_id\"\n",
        "df[\"product_id\"] = df[\"product_value\"].apply(lambda x: impute_product_value(x))\n",
        "# Hapus kolom \"product_value\"\n",
        "df.drop([\"product_value\"], axis=1, inplace=True)\n",
        "# Cetak 5 data teratas\n",
        "print(df.head())"
      ],
      "metadata": {
        "id": "zi24MCRjp6mi"
      },
      "execution_count": null,
      "outputs": []
    },
    {
      "cell_type": "code",
      "source": [
        "# 4. Tranform order_date menjadi value dengan format \"YYYY-mm-dd\"\n",
        "print(\"\\n[4] TRANSFORM order_date MENJADI FORMAT YYYY-mm-dd\")\n",
        "months_dict = {\n",
        "   \"Jan\":\"01\",\n",
        "   \"Feb\":\"02\",\n",
        "   \"Mar\":\"03\",\n",
        "   \"Apr\":\"04\",\n",
        "   \"May\":\"05\",\n",
        "   \"Jun\":\"06\",\n",
        "   \"Jul\":\"07\",\n",
        "   \"Aug\":\"08\",\n",
        "   \"Sep\":\"09\",\n",
        "   \"Oct\":\"10\",\n",
        "   \"Nov\":\"11\",\n",
        "   \"Dec\":\"12\"\n",
        "}\n",
        "df[\"order_date\"] = pd.to_datetime(df[\"order_date\"].apply(lambda x: str(x)[-4:] + \"-\" + months_dict[str(x)[:3]] + \"-\" + str(x)[4:7]))\n",
        "print(\"    Tipe data:\\n\", df.dtypes)\n"
      ],
      "metadata": {
        "id": "6B7kwbVtp9Yk"
      },
      "execution_count": null,
      "outputs": []
    },
    {
      "cell_type": "code",
      "source": [
        "# 5. Mengatasi data yang hilang di beberapa kolom\n",
        "print(\"\\n[5] HANDLING MISSING VALUE\")\n",
        "# Kolom \"city\" dan \"province\" masih memiliki missing value, nilai yang hilang di kedua kolom ini diisi saja dengan \"unknown\"\n",
        "df[[\"city\",\"province\"]] = df[[\"city\",\"province\"]].fillna(\"unknown\")\n",
        "# Kolom brand juga masih memiliki missing value, Ganti value NaN menjadi \"no_brand\"\n",
        "df[\"brand\"] = df[\"brand\"].fillna(\"no_brand\")\n",
        "# Cek apakah masih terdapat missing value di seluruh kolom \n",
        "print(\"    Info:\\n\", df.info())"
      ],
      "metadata": {
        "id": "pQstRZbfqPl-"
      },
      "execution_count": null,
      "outputs": []
    },
    {
      "cell_type": "code",
      "source": [
        "# 6. Membuat kolom baru \"city/province\" dengan menggabungkan kolom \"city\" dan kolom \"province\" dan delete kolom asalnya\n",
        "print(\"\\n[6] MEMBUAT KOLOM BARU city/province\")\n",
        "df[\"city/province\"] = df[\"city\"] + \"/\" + df[\"province\"]\n",
        "# drop kolom \"city\" dan \"province\" karena telah digabungkan\n",
        "df.drop([\"city\",\"province\"], axis=1, inplace=True)\n",
        "# Cetak 5 data teratas\n",
        "print(df.head())\n"
      ],
      "metadata": {
        "id": "GKGWZ8-9qopQ"
      },
      "execution_count": null,
      "outputs": []
    },
    {
      "cell_type": "code",
      "source": [
        "# 7. Membuat hierarchical index yang terdiri dari kolom \"city/province\", \"order_date\", \"customer_id\", \"order_id\", \"product_id\"\n",
        "print(\"\\n[7] MEMBUAT HIERACHICAL INDEX\")\n",
        "df = df.set_index([\"city/province\",\"order_date\",\"customer_id\",\"order_id\",\"product_id\"])\n",
        "# urutkanlah berdasarkan index yang baru\n",
        "df = df.sort_index()\n",
        "# Cetak 5 data teratas\n",
        "print(df.head())"
      ],
      "metadata": {
        "id": "7lBMl2C-qsrC"
      },
      "execution_count": null,
      "outputs": []
    },
    {
      "cell_type": "code",
      "source": [
        "# 8. Membuat kolom \"total_price\" yang formula nya perkalian antara kolom \"quantity\" dan kolom \"item_price\"\n",
        "print(\"\\n[8] MEMBUAT KOLOM total_price\")\n",
        "df[\"total_price\"] = df[\"quantity\"] * df[\"item_price\"]\n",
        "# Cetak 5 data teratas\n",
        "print(df.head())\n"
      ],
      "metadata": {
        "id": "l-ZDesnerATS"
      },
      "execution_count": null,
      "outputs": []
    },
    {
      "cell_type": "code",
      "source": [
        "# 9. Slice dataset agar hanya terdapat data bulan Januari 2019\n",
        "print(\"\\n[9] SLICE DATASET UNTUK BULAN JANUARI 2019 SAJA\")\n",
        "idx = pd.IndexSlice\n",
        "df_jan2019 = df.loc[idx[:, \"2019-01-01\":\"2019-01-31\"], :]\n",
        "print(\"Dataset akhir:\\n\", df_jan2019)\n"
      ],
      "metadata": {
        "id": "j4nS9N79rCf5"
      },
      "execution_count": null,
      "outputs": []
    }
  ]
}